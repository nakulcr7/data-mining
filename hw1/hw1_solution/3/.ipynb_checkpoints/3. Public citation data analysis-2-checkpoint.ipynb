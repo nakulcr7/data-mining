{
 "cells": [
  {
   "cell_type": "markdown",
   "metadata": {},
   "source": [
    "# 3. Dataset Analysis (30 pts)"
   ]
  },
  {
   "cell_type": "markdown",
   "metadata": {},
   "source": [
    "    Your task is to produce an iPython/Jupyter notebook to analyze a public citation dataset from Aminer12. You will perform some exploratory analysis and data visualization for this dataset.\n",
    "    Note: this is a large dataset (about 2 million publications – it takes about a minute just to parse!). While your notebook must successfully work on the entire dataset, you may find it useful to work on a subset while getting your code to work.\n",
    "    Where there are explanation questions below, provide your responses as markdown cells within the note- book."
   ]
  },
  {
   "cell_type": "markdown",
   "metadata": {},
   "source": [
    "## 3.1 Basic Counts"
   ]
  },
  {
   "cell_type": "markdown",
   "metadata": {},
   "source": [
    "    a. Compute the number of distinct authors, publication venues, publications, and citations/references"
   ]
  },
  {
   "cell_type": "code",
   "execution_count": 46,
   "metadata": {},
   "outputs": [
    {
     "name": "stdout",
     "output_type": "stream",
     "text": [
      "Number of distinct publications are  1976815\n",
      "Number of distinct authors are  1478734\n",
      "Number of distinct venues are  255686\n",
      "Number of distinct reference are  7250326\n"
     ]
    }
   ],
   "source": [
    "#index ---- index id of this paper\n",
    "#* ---- paper title\n",
    "#@ ---- authors (separated by semicolons)\n",
    "#t ---- year\n",
    "#c ---- publication venue\n",
    "#% ---- the id of references of this paper (there are multiple lines, with each indicating a reference)\n",
    "#! ---- abstract\n",
    "authors = []\n",
    "venues = []\n",
    "index = []\n",
    "refs = []\n",
    "currIndex = 0\n",
    "with open('./3_data/AP_train.txt') as f:\n",
    "    for line in f:\n",
    "        if line.startswith('#index'):\n",
    "            currIndex = line.split(\" \")[1].strip()\n",
    "            index.append(currIndex)\n",
    "        elif line.startswith('#@'):\n",
    "            authorList = [x.strip() for x in line.replace(\"#@ \",\"\").split(';')]\n",
    "            authors.extend(authorList)\n",
    "        elif line.startswith('#%'):\n",
    "            refs.append(currIndex+\" -> \"+line.replace(\"#% \",\"\").strip())\n",
    "        elif line.startswith('#c'):\n",
    "            venues.append(line.replace(\"#c \",\"\").strip())\n",
    "f.closed\n",
    "print(\"Number of distinct publications are \",len(list(set(index))))\n",
    "print(\"Number of distinct authors are \",len(list(set(authors))))\n",
    "print(\"Number of distinct venues are \",len(list(set(venues))))\n",
    "print(\"Number of distinct reference are \",len(list(set(refs))))\n"
   ]
  },
  {
   "cell_type": "markdown",
   "metadata": {},
   "source": [
    "    b. Are these numbers likely to be accurate? As an example look up all the publications venue names associated with the conference “Principles and Practice of Knowledge Discovery in Databases”13 – what do you notice?"
   ]
  },
  {
   "cell_type": "code",
   "execution_count": 47,
   "metadata": {},
   "outputs": [
    {
     "name": "stdout",
     "output_type": "stream",
     "text": [
      "Knowledge Discovery in Databases: PKDD 2006: 10th European Conference on Principles and Practice of Knowledge Discovery in Databases, Berlin, Germany, September ... (Lecture Notes in Computer Science) \n",
      "\n",
      "PKDD'05 Proceedings of the 9th European conference on Principles and Practice of Knowledge Discovery in Databases \n",
      "\n",
      "PKDD '04 Proceedings of the 8th European Conference on Principles and Practice of Knowledge Discovery in Databases \n",
      "\n",
      "Knowledge Discovery in Databases: PKDD 2005: 9th European Conference on Principles and Practice of Knowledge Discovery in Databases, Porto, Portugal, October ... / Lecture Notes in Artificial Intelligence) \n",
      "\n",
      "PKDD 2007 Proceedings of the 11th European conference on Principles and Practice of Knowledge Discovery in Databases \n",
      "\n"
     ]
    }
   ],
   "source": [
    "venues = set()\n",
    "with open('./3_data/AP_train.txt') as f:\n",
    "    for line in f:\n",
    "        if \"Principles and Practice of Knowledge Discovery in Databases\" in line and line.startswith('#c'):\n",
    "            venues.add(line[3:].strip())\n",
    "f.closed\n",
    "for venue in venues:\n",
    "    print(venue,\"\\n\")"
   ]
  },
  {
   "cell_type": "markdown",
   "metadata": {},
   "source": [
    "From the above analysis on the publication venue names, we can infer that the data is captured inconsistently across the publications. Finding the distinct venues would require additional data processing and manual intervention in data analysis"
   ]
  },
  {
   "cell_type": "markdown",
   "metadata": {},
   "source": [
    "## 3.2 Publications, Authors, Venues"
   ]
  },
  {
   "cell_type": "markdown",
   "metadata": {},
   "source": [
    "    a. For each author, construct the list of publications. Plot a histogram of the number of publications per author (use a logarithmic scale on the y axis)."
   ]
  },
  {
   "cell_type": "code",
   "execution_count": 2,
   "metadata": {},
   "outputs": [
    {
     "name": "stdout",
     "output_type": "stream",
     "text": [
      "1478734\n"
     ]
    }
   ],
   "source": [
    "authorsPub = dict()\n",
    "with open('AP_train.txt') as f:\n",
    "    for line in f:\n",
    "        if line.startswith('#index'):\n",
    "            currIndex = line.split(\" \")[1].rstrip()\n",
    "        elif line.startswith('#@'):\n",
    "            authors=[]\n",
    "            authors.extend([x.strip() for x in line.replace(\"#@ \",\"\").split(';')])\n",
    "            for author in authors:\n",
    "                if author in authorsPub:\n",
    "                    authorsPub[author].append(currIndex)\n",
    "                else:\n",
    "                    authorsPub[author]= [currIndex]\n",
    "f.closed\n",
    "\n",
    "# Nakul\n",
    "print(len(authorsPub))"
   ]
  },
  {
   "cell_type": "code",
   "execution_count": 49,
   "metadata": {},
   "outputs": [
    {
     "name": "stdout",
     "output_type": "stream",
     "text": [
      "Since the maximum publications donot have author, it is captured as \"  \" author\n",
      "Removing the above value to plot the histogram of the number of publications per author  \n"
     ]
    },
    {
     "data": {
      "image/png": "[encoded data removed]",
      "text/plain": [
       "<matplotlib.figure.Figure at 0x123cc24a8>"
      ]
     },
     "metadata": {},
     "output_type": "display_data"
    }
   ],
   "source": [
    "noOfPub = []\n",
    "\n",
    "for author in authorsPub.keys():\n",
    "    noOfPub.append(len(authorsPub[author]))\n",
    "\n",
    "authorPubCount = dict()\n",
    "for author,pubs in authorsPub.items():\n",
    "    authorPubCount[author] = len(pubs)\n",
    "    \n",
    "print(\"Since the maximum publications donot have author, it is captured as \\\"\",max(authorPubCount,key=authorPubCount.get),\"\\\" author\")\n",
    "print(\"Removing the above value to plot the histogram of the number of publications per author  \")\n",
    "numberOfPublicationList = noOfPub\n",
    "numberOfPublicationList.remove(max(numberOfPublicationList))\n",
    "print(len(numberOfPublicationList))\n",
    "# import math\n",
    "# import matplotlib.pyplot as plt\n",
    "# plt.hist(numberOfPublicationList,bins=50,log=True)\n",
    "# plt.show()"
   ]
  },
  {
   "cell_type": "markdown",
   "metadata": {},
   "source": [
    "    b. Calculate the mean and standard deviation of the number of publications per author. Also calculate the Q1 (1st quartile14), Q2 (2nd quartile, or median) and Q3 (3rd quartile) values. Compare the median to the mean and explain the difference between the two values based on the standard deviation and the 1st and 3rd quartiles."
   ]
  },
  {
   "cell_type": "code",
   "execution_count": 50,
   "metadata": {},
   "outputs": [
    {
     "name": "stdout",
     "output_type": "stream",
     "text": [
      "For all the data points including the publications with missing author\n",
      "Mean of the number of publications per author is  3.291785602945224\n",
      "Standard deviation of the number of publications per author is  8.871892690795002\n",
      "Quartile 1 value of the list is 1.0\n",
      "The median or Quartile 2 value of the list is 1\n",
      "Quartile 3 value of the list is 2.0\n"
     ]
    }
   ],
   "source": [
    "def meanValue(vList):\n",
    "    return sum(vList)/float(len(vList))\n",
    "\n",
    "def stdDev(vList):\n",
    "    meanDiff = []\n",
    "    mean = meanValue(vList)\n",
    "    for x in vList:\n",
    "        meanDiff.append(math.pow((float(x)-mean),2))\n",
    "    return (math.sqrt(sum(meanDiff)/(len(meanDiff)-1)))\n",
    "\n",
    "def calcMedian(vlist):\n",
    "    list.sort(vlist)\n",
    "    listLength = len(vlist)\n",
    "    if listLength%2==0:\n",
    "        median = (vlist[int(listLength/2)] + vlist[int((listLength-1)/2)])/2\n",
    "    else:\n",
    "        median = vlist[int(listLength/2)]\n",
    "    return median\n",
    "\n",
    "print(\"For all the data points including the publications with missing author\")\n",
    "mean = meanValue(noOfPub)\n",
    "print(\"Mean of the number of publications per author is \",mean)\n",
    "\n",
    "stdDevValue = stdDev(noOfPub)\n",
    "print(\"Standard deviation of the number of publications per author is \",stdDevValue)\n",
    "\n",
    "print(\"Quartile 1 value of the list is\",calcMedian(noOfPub[:math.floor((len(noOfPub)/2))]))    \n",
    "print(\"The median or Quartile 2 value of the list is\",calcMedian(noOfPub))\n",
    "print(\"Quartile 3 value of the list is\",calcMedian(noOfPub[math.ceil((len(noOfPub)/2)):]))"
   ]
  },
  {
   "cell_type": "code",
   "execution_count": 51,
   "metadata": {},
   "outputs": [
    {
     "name": "stdout",
     "output_type": "stream",
     "text": [
      "For all the data points excluding the publications with missing author\n",
      "Mean of the number of publications per author is  3.291785602945224\n",
      "Standard deviation of the number of publications per author is  8.871892690865035\n",
      "Quartile 1 value of the list is 1.0\n",
      "The median or Quartile 2 value of the list is 1\n",
      "Quartile 3 value of the list is 2.0\n"
     ]
    }
   ],
   "source": [
    "#Removing the \" \" author from the list for less skewed list\n",
    "print(\"For all the data points excluding the publications with missing author\")\n",
    "mean = meanValue(numberOfPublicationList)\n",
    "print(\"Mean of the number of publications per author is \",mean)\n",
    "\n",
    "stdDevValue = stdDev(numberOfPublicationList)\n",
    "print(\"Standard deviation of the number of publications per author is \",stdDevValue)\n",
    "\n",
    "print(\"Quartile 1 value of the list is\",calcMedian(numberOfPublicationList[:math.floor((len(numberOfPublicationList)/2))]))    \n",
    "print(\"The median or Quartile 2 value of the list is\",calcMedian(numberOfPublicationList))\n",
    "print(\"Quartile 3 value of the list is\",calcMedian(numberOfPublicationList[math.ceil((len(numberOfPublicationList)/2)):]))"
   ]
  },
  {
   "cell_type": "markdown",
   "metadata": {},
   "source": [
    "Based on the median and quartile values we can infer that the majority of the authors have one or two publications."
   ]
  },
  {
   "cell_type": "markdown",
   "metadata": {},
   "source": [
    "    c. Now plot a histogram of the number of publications per venue, as well as calculate the mean, standard deviation, median, Q1, and Q3 values. What is the venue with the largest number of publications in the dataset?"
   ]
  },
  {
   "cell_type": "code",
   "execution_count": 52,
   "metadata": {},
   "outputs": [
    {
     "data": {
      "image/png": "[encoded data removed]",
      "text/plain": [
       "<matplotlib.figure.Figure at 0x139a40438>"
      ]
     },
     "metadata": {},
     "output_type": "display_data"
    },
    {
     "name": "stdout",
     "output_type": "stream",
     "text": [
      "Mean of the number of publications per venue is  7.731416659496413\n",
      "Standard deviation of the number of publications per venue is  83.38121915760708\n",
      "Quartile 1 value of the list is 1\n",
      "The median or Quartile 2 value of the list is 1.0\n",
      "Quartile 3 value of the list is 1\n",
      "The venue with the highest number of publications were published at \" IEEE Transactions on Information Theory \"with count 11227\n"
     ]
    }
   ],
   "source": [
    "venuePub = dict()\n",
    "currIndex = 0\n",
    "with open('./3_data/AP_train.txt') as f:\n",
    "    for line in f:\n",
    "        if line.startswith('#index'):\n",
    "            currIndex = line.split(\" \")[1].rstrip()\n",
    "        elif line.startswith('#c'):\n",
    "            venue = line.replace(\"#c \",\"\").rstrip()\n",
    "            if venue in venuePub.keys():\n",
    "                venuePub[venue].append(currIndex)\n",
    "            else: venuePub[venue] =[currIndex]\n",
    "f.closed\n",
    "noOfPubPerVenue = []\n",
    "noOfPubPerVenueDict = dict()\n",
    "for venue,pubs in venuePub.items():\n",
    "    noOfPubPerVenue.append(len(pubs))\n",
    "    noOfPubPerVenueDict[venue] = len(pubs)\n",
    "\n",
    "plt.hist(noOfPubPerVenue,bins=50,log=True)\n",
    "plt.show()\n",
    "\n",
    "#MEAN, STD DEV\n",
    "\n",
    "mean = meanValue(noOfPubPerVenue)\n",
    "print(\"Mean of the number of publications per venue is \",mean)\n",
    "\n",
    "stdDevValue = stdDev(noOfPubPerVenue)\n",
    "print(\"Standard deviation of the number of publications per venue is \",stdDevValue)\n",
    "\n",
    "#MEDIAN Q1 Q3\n",
    "listLength = len(noOfPubPerVenue)\n",
    "print(\"Quartile 1 value of the list is\",calcMedian(noOfPubPerVenue[:math.floor((listLength/2))]))    \n",
    "print(\"The median or Quartile 2 value of the list is\",calcMedian(noOfPubPerVenue))\n",
    "print(\"Quartile 3 value of the list is\",calcMedian(noOfPubPerVenue[math.ceil((listLength/2)):]))\n",
    "print(\"The venue with the highest number of publications were published at \\\"\",max(noOfPubPerVenueDict, key=noOfPubPerVenueDict.get),\"\\\"with count\",noOfPubPerVenueDict[max(noOfPubPerVenueDict, key=noOfPubPerVenueDict.get)])\n"
   ]
  },
  {
   "cell_type": "markdown",
   "metadata": {},
   "source": [
    "## 3.3 References, Citations, Impact"
   ]
  },
  {
   "cell_type": "markdown",
   "metadata": {},
   "source": [
    "    a. Plot a histogram of the number of references (number of publications a publication refers to) and citations (number of publications referring to a publication) per publication. What is the publication with the largest number of references? What is the publication with the largest number of citations? Do these make sense?"
   ]
  },
  {
   "cell_type": "code",
   "execution_count": 53,
   "metadata": {},
   "outputs": [
    {
     "name": "stdout",
     "output_type": "stream",
     "text": [
      "The publication with the largest number of references is 719353\n",
      "The publication with the largest number of citations is 408396\n"
     ]
    }
   ],
   "source": [
    "refOfPub = dict()\n",
    "refOfPubCount = dict()\n",
    "citOfPub = dict()\n",
    "citOfPubCount = dict()\n",
    "currIndex = 0\n",
    "with open('./3_data/AP_train.txt') as f:\n",
    "    for line in f:\n",
    "        if line.startswith('#index'):\n",
    "            currIndex = line.split(\" \")[1].rstrip()\n",
    "        elif line.startswith('#%'):\n",
    "            ref = line.replace(\"#% \",\"\").rstrip()\n",
    "            if currIndex in refOfPub:\n",
    "                refOfPub[currIndex].append(ref)\n",
    "                refOfPubCount[currIndex] = refOfPubCount[currIndex] + 1\n",
    "            else:\n",
    "                refOfPub[currIndex] = [ref]\n",
    "                refOfPubCount[currIndex] = 1\n",
    "            if ref in citOfPub:\n",
    "                citOfPub[ref].append(currIndex)\n",
    "                citOfPubCount[ref] = citOfPubCount[ref] + 1\n",
    "            else:\n",
    "                citOfPub[ref] = [currIndex]\n",
    "                citOfPubCount[ref] = 1\n",
    "f.closed\n",
    "print(\"The publication with the largest number of references is\",max(refOfPubCount, key=refOfPubCount.get))\n",
    "print(\"The publication with the largest number of citations is\",max(citOfPubCount, key=citOfPubCount.get))\n",
    "    "
   ]
  },
  {
   "cell_type": "markdown",
   "metadata": {},
   "source": [
    "    b. Calculate the so called “impact” factor for each venue. To do so, calculate the total number of citations for the publications in the venue, and then divide this number by the number of publications for the venue. Plot a histogram of the results."
   ]
  },
  {
   "cell_type": "code",
   "execution_count": 54,
   "metadata": {},
   "outputs": [
    {
     "data": {
      "image/png": "[encoded data removed]",
      "text/plain": [
       "<matplotlib.figure.Figure at 0x182ff6630>"
      ]
     },
     "metadata": {},
     "output_type": "display_data"
    },
    {
     "name": "stdout",
     "output_type": "stream",
     "text": [
      "The venue with the highest apparent impact factor? is \" System-on-Chip Test Architectures: Nanometer Design for Testability \"with impact factor of 555.0\n"
     ]
    }
   ],
   "source": [
    "venOfPub = dict()\n",
    "venOfPubCount = dict()\n",
    "venOfCitCount = dict()\n",
    "currIndex = 0\n",
    "with open('./3_data/AP_train.txt') as f:\n",
    "    for line in f:\n",
    "        if line.startswith('#index'):\n",
    "            currIndex = line.split(\" \")[1].rstrip()\n",
    "        elif line.startswith('#c'):\n",
    "            venue = line.replace(\"#c \",\"\").rstrip()\n",
    "            if venue in venOfPub:\n",
    "                venOfPub[venue].append(currIndex)\n",
    "                venOfPubCount[venue] = venOfPubCount[venue] + 1\n",
    "            else:\n",
    "                venOfPub[venue] = [currIndex]\n",
    "                venOfPubCount[venue] = 1\n",
    "f.closed\n",
    "for ven,pubs in venOfPub.items():\n",
    "    for pub in pubs:\n",
    "        count = 0\n",
    "        if pub in refOfPubCount:\n",
    "            count = refOfPubCount[pub]\n",
    "        if ven in venOfCitCount:\n",
    "            venOfCitCount[ven] = venOfCitCount[ven] + count\n",
    "        else:\n",
    "            venOfCitCount[ven] = count\n",
    "impactFactor = dict()\n",
    "for venue in venOfPubCount.keys():\n",
    "    impactFactor[venue] = venOfCitCount[venue]/venOfPubCount[venue]\n",
    "\n",
    "plt.hist(list(impactFactor.values()),bins=50,log=True)\n",
    "plt.show()\n",
    "\n",
    "print(\"The venue with the highest apparent impact factor? is \\\"\",max(impactFactor, key=impactFactor.get),\"\\\"with impact factor of\",impactFactor[max(impactFactor, key=impactFactor.get)])"
   ]
  },
  {
   "cell_type": "markdown",
   "metadata": {},
   "source": [
    "    d. Now repeat the calculation from item b., but restrict the calculation to venues with at least 10 publications. How does your histogram change? List the citation counts for all publications from the venue with the highest impact factor. How does the impact factor (mean number of citations) compare to the median number of citations?"
   ]
  },
  {
   "cell_type": "code",
   "execution_count": 55,
   "metadata": {},
   "outputs": [
    {
     "name": "stdout",
     "output_type": "stream",
     "text": [
      "The venue with the highest apparent impact factor? is \" Foundations and Trends in Information Retrieval \"\n",
      "120.70588235294117\n"
     ]
    },
    {
     "data": {
      "image/png": "[encoded data removed]",
      "text/plain": [
       "<matplotlib.figure.Figure at 0x1471adc18>"
      ]
     },
     "metadata": {},
     "output_type": "display_data"
    },
    {
     "name": "stdout",
     "output_type": "stream",
     "text": [
      "The citation counts for all publications from the above venue are as follows:\n",
      "937890  ->  24\n",
      "1015240  ->  14\n",
      "1060862  ->  22\n",
      "1127962  ->  18\n",
      "1127964  ->  403\n",
      "1166534  ->  35\n",
      "1231244  ->  52\n",
      "1268490  ->  29\n",
      "1268491  ->  96\n",
      "1343447  ->  30\n",
      "1369421  ->  9\n",
      "1417245  ->  23\n",
      "1565812  ->  10\n",
      "1565813  ->  6\n",
      "1876160  ->  1\n",
      "1876161  ->  0\n",
      "1876162  ->  0\n",
      "The mean of the impact factor is 45.411764705882355\n",
      "The median of the impact factor is 22\n"
     ]
    }
   ],
   "source": [
    "impactFactor = dict()\n",
    "for venue in venOfCitCount.keys():\n",
    "    if venOfPubCount[venue]>=10:\n",
    "        impactFactor[venue] = venOfCitCount[venue]/venOfPubCount[venue]\n",
    "print(\"The venue with the highest apparent impact factor? is \\\"\",max(impactFactor, key=impactFactor.get),\"\\\"\")\n",
    "print(impactFactor[max(impactFactor, key=impactFactor.get)])\n",
    "\n",
    "plt.hist(list(impactFactor.values()),bins=50,log=True)\n",
    "plt.show()\n",
    "\n",
    "print(\"The citation counts for all publications from the above venue are as follows:\")\n",
    "publications = venOfPub[max(impactFactor, key=impactFactor.get)]\n",
    "noOfCit =[]\n",
    "for pub in publications:\n",
    "    count = 0\n",
    "    if pub in citOfPubCount:\n",
    "        count = citOfPubCount[pub]\n",
    "    print(pub,' -> ',count)\n",
    "    noOfCit.append(count)\n",
    "\n",
    "meanValue = sum(noOfCit)/float(len(noOfCit))\n",
    "print(\"The mean of the impact factor is\",meanValue)\n",
    "print(\"The median of the impact factor is\",calcMedian(noOfCit))\n",
    "\n"
   ]
  },
  {
   "cell_type": "markdown",
   "metadata": {},
   "source": [
    "    e. Finally, construct a list of publications for each publication year. Use this list to plot the average number of references and average number of citations per publication as a function of time. Explain the differences you see in the trends."
   ]
  },
  {
   "cell_type": "code",
   "execution_count": 56,
   "metadata": {},
   "outputs": [
    {
     "data": {
      "text/plain": [
       "True"
      ]
     },
     "execution_count": 56,
     "metadata": {},
     "output_type": "execute_result"
    }
   ],
   "source": [
    "yearOfPub = dict()\n",
    "currIndex = 0\n",
    "with open('./3_data/AP_train.txt') as f:\n",
    "    for line in f:\n",
    "        if line.startswith('#index'):\n",
    "            currIndex = line.split(\" \")[1].rstrip()\n",
    "        elif line.startswith('#t'):\n",
    "            year = line.replace(\"#t \",\"\").rstrip()\n",
    "            if year in yearOfPub:\n",
    "                yearOfPub[year].append(currIndex)\n",
    "            else:\n",
    "                yearOfPub[year]=[currIndex]\n",
    "f.closed"
   ]
  },
  {
   "cell_type": "code",
   "execution_count": 57,
   "metadata": {},
   "outputs": [],
   "source": [
    "avgRef = dict()\n",
    "avgCit = dict()\n",
    "for year,pubs in yearOfPub.items():\n",
    "    if '' !=year:\n",
    "        pubsCount = len(pubs)\n",
    "        totalRef = totalCit = 0\n",
    "        for pub in pubs:\n",
    "            if pub in refOfPubCount:\n",
    "                totalRef = totalRef + refOfPubCount[pub]\n",
    "            if pub in citOfPubCount:\n",
    "                totalCit = totalCit + citOfPubCount[pub]\n",
    "        avgRefV = round(totalRef/pubsCount,2)\n",
    "        avgCitV = round(totalCit/pubsCount,2)\n",
    "        avgRef[year] = avgRefV\n",
    "        avgCit[year] = avgCitV"
   ]
  },
  {
   "cell_type": "code",
   "execution_count": 58,
   "metadata": {},
   "outputs": [
    {
     "data": {
      "image/png": "[encoded data removed]",
      "text/plain": [
       "<matplotlib.figure.Figure at 0x134dfe080>"
      ]
     },
     "metadata": {},
     "output_type": "display_data"
    }
   ],
   "source": [
    "import pylab as pl\n",
    "x = [int(x) for x in list(avgRef.keys())]\n",
    "xTicks = list(set(list(avgRef.keys())))\n",
    "y = list(avgRef.values())\n",
    "pl.xticks(x, xTicks)\n",
    "pl.plot(x,y,'*',label='avg ref')\n",
    "\n",
    "x = [int(x) for x in list(avgCit.keys())]\n",
    "xTicks = list(set(list(avgCit.keys())))\n",
    "y = list(avgCit.values())\n",
    "pl.xticks(x, xTicks)\n",
    "pl.plot(x,y,'*',label='avg cit')\n",
    "pl.show()"
   ]
  },
  {
   "cell_type": "code",
   "execution_count": null,
   "metadata": {
    "collapsed": true
   },
   "outputs": [],
   "source": []
  }
 ],
 "metadata": {
  "kernelspec": {
   "display_name": "Python 3",
   "language": "python",
   "name": "python3"
  },
  "language_info": {
   "codemirror_mode": {
    "name": "ipython",
    "version": 3
   },
   "file_extension": ".py",
   "mimetype": "text/x-python",
   "name": "python",
   "nbconvert_exporter": "python",
   "pygments_lexer": "ipython3",
   "version": "3.6.0"
  }
 },
 "nbformat": 4,
 "nbformat_minor": 2
}
