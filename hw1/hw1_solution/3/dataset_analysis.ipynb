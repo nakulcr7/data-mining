{
 "cells": [
  {
   "cell_type": "code",
   "execution_count": 85,
   "metadata": {},
   "outputs": [],
   "source": [
    "# Imports"
   ]
  },
  {
   "cell_type": "code",
   "execution_count": 86,
   "metadata": {},
   "outputs": [],
   "source": [
    "# Common stuff\n",
    "\n",
    "# Constants\n",
    "IN_FILENAME = 'AP_train.txt'\n",
    "\n",
    "# Helper functions\n",
    "def read_file(in_filename, nrows=None):\n",
    "    for line in open(IN_FILENAME):\n",
    "        if nrows is None:\n",
    "            yield line\n",
    "        elif nrows == 0:\n",
    "            return\n",
    "        else:\n",
    "            nrows -= 1\n",
    "            yield line"
   ]
  },
  {
   "cell_type": "code",
   "execution_count": 87,
   "metadata": {},
   "outputs": [
    {
     "name": "stdout",
     "output_type": "stream",
     "text": [
      "['#index', '1']\n",
      "['#*', 'Book Review: Discover Linux']\n",
      "['#@', 'Marjorie Richardson']\n",
      "['#t', '1998']\n",
      "['#c', 'Linux Journal']\n",
      "['']\n",
      "['#index', '2']\n",
      "['#*', 'MOSFET table look-up models for circuit simulation']\n",
      "['#@']\n",
      "['#t', '1984']\n",
      "['#c', 'Integration, the VLSI Journal']\n",
      "['']\n",
      "['#index', '3']\n",
      "['#*', 'The verification of the protection mechanisms of high-level language machines']\n",
      "['#@', 'Virgil D. Gligor']\n",
      "['#t', '1984']\n",
      "['#c', 'International Journal of Parallel Programming']\n",
      "['']\n",
      "['#index', '4']\n",
      "['#*', 'Another view of functional and multivalued dependencies in the relational database model']\n",
      "['#@', 'M. Gyssens;J. Paredaens']\n",
      "['#t', '1984']\n",
      "['#c', 'International Journal of Parallel Programming']\n",
      "['']\n",
      "['#index', '5']\n",
      "['#*', 'Entity-relationship diagrams which are in BCNF']\n",
      "['#@', 'Sushil Jajodia;Peter A. Ng;Frederick N. Springsteel']\n",
      "['#t', '1984']\n",
      "['#c', 'International Journal of Parallel Programming']\n",
      "['']\n",
      "['#index', '6']\n",
      "['#*', 'The computer comes of age']\n",
      "['#@', 'Rene Moreau']\n",
      "['#t', '1984']\n",
      "['#c', 'The computer comes of age']\n",
      "['']\n",
      "['#index', '7']\n",
      "['#*', 'Computationally efficient algorithms for a one-time pad scheme']\n",
      "['#@', 'A. G. Akritas;S. S. Lyengar;A. A. Rampuria']\n",
      "['#t', '1984']\n",
      "['#c', 'International Journal of Parallel Programming']\n",
      "['']\n",
      "['#index', '8']\n",
      "['#*', 'The hierarchical ordering in Multiattribute files']\n",
      "['#@', 'C. C. Chang;M. W. Du;R. C. T. Lee']\n",
      "['#t', '1983']\n",
      "['#c', 'Information Sciences: an International Journal']\n",
      "['']\n",
      "['#index', '9']\n",
      "['#*', 'Insertion languages']\n"
     ]
    }
   ],
   "source": [
    "# Explore dataset\n",
    "for line in read_file(IN_FILENAME, nrows=50):\n",
    "    print(line.strip().split(' ', 1))"
   ]
  },
  {
   "cell_type": "code",
   "execution_count": 88,
   "metadata": {},
   "outputs": [
    {
     "name": "stdout",
     "output_type": "stream",
     "text": [
      "1478734\n",
      "255685\n",
      "871089\n",
      "42294\n"
     ]
    }
   ],
   "source": [
    "# 3.1 Basic Counts\n",
    "\n",
    "# Data structures:\n",
    "indices = set()\n",
    "authors_set = set()\n",
    "publication_venues = set()\n",
    "publications = set()\n",
    "citations = set()\n",
    "\n",
    "\n",
    "# Helper functions\n",
    "def process_publication(pub_string):\n",
    "    publications.add(pub_string.strip())\n",
    "    \n",
    "def process_authors(authors_string):\n",
    "    authors = authors_string.strip().split(';')\n",
    "    authors = set([author.strip() for author in authors])\n",
    "    authors_set.update(authors)\n",
    "\n",
    "def process_publication_venue(pub_venue_string):\n",
    "    publication_venues.add(pub_venue_string.strip())\n",
    "\n",
    "def process_citation(citation_string):\n",
    "    citations.add(citation_string.strip())\n",
    "\n",
    "# Main script\n",
    "abnormal_counter = 0\n",
    "for line in read_file(IN_FILENAME, nrows=None):\n",
    "    line = line.strip().split(' ', 1)\n",
    "#     if len(line) == 1:\n",
    "#         abnormal_counter += 1\n",
    "#         continue\n",
    "    try:\n",
    "        if line[0] == '#index':\n",
    "            process_publication(line[1])\n",
    "        elif line[0] == '#*':\n",
    "            pass\n",
    "        elif line[0] == '#@':\n",
    "            process_authors(line[1])\n",
    "        elif line[0] == '#t':\n",
    "            pass\n",
    "        elif line[0] == '#c':\n",
    "            process_publication_venue(line[1])\n",
    "        elif line[0] == '#%':\n",
    "            process_citation(line[1])\n",
    "        else:\n",
    "            continue\n",
    "    except Exception as e:\n",
    "        abnormal_counter += 1\n",
    "        continue\n",
    "#         print(line)\n",
    "#         raise e\n",
    "\n",
    "print(len(authors_set))\n",
    "print(len(publication_venues))\n",
    "print(len(citations))\n",
    "print(abnormal_counter)"
   ]
  },
  {
   "cell_type": "code",
   "execution_count": null,
   "metadata": {},
   "outputs": [],
   "source": []
  }
 ],
 "metadata": {
  "kernelspec": {
   "display_name": "Python 3",
   "language": "python",
   "name": "python3"
  },
  "language_info": {
   "codemirror_mode": {
    "name": "ipython",
    "version": 3
   },
   "file_extension": ".py",
   "mimetype": "text/x-python",
   "name": "python",
   "nbconvert_exporter": "python",
   "pygments_lexer": "ipython3",
   "version": "3.6.0"
  }
 },
 "nbformat": 4,
 "nbformat_minor": 2
}
