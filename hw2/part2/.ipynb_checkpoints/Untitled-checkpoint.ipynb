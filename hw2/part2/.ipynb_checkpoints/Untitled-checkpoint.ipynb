{
 "cells": [
  {
   "cell_type": "code",
   "execution_count": 1,
   "metadata": {},
   "outputs": [],
   "source": [
    "## Graph code for DBScan"
   ]
  },
  {
   "cell_type": "code",
   "execution_count": 12,
   "metadata": {},
   "outputs": [],
   "source": [
    "# Imports\n",
    "import matplotlib.pyplot as plt\n",
    "import csv"
   ]
  },
  {
   "cell_type": "code",
   "execution_count": 46,
   "metadata": {},
   "outputs": [],
   "source": [
    "# Helper Functions\n",
    "def read_data_iter(filename):\n",
    "    with open(filename, 'rU') as f:\n",
    "        reader = csv.DictReader(f)\n",
    "        for row in reader:\n",
    "            yield row\n",
    "\n",
    "            \n",
    "def cluster_plot(data_points, clusters):\n",
    "    cluster_indices = set(clusters)\n",
    "    for j in cluster_indices:\n",
    "        points = [data_points[idx] for idx,c in enumerate(clusters) if c == j]\n",
    "        plt.scatter([d[0] for d in points], [d[1] for d in points], label=\"{}\".format(j))\n",
    "    plt.show()"
   ]
  },
  {
   "cell_type": "code",
   "execution_count": 47,
   "metadata": {},
   "outputs": [
    {
     "name": "stderr",
     "output_type": "stream",
     "text": [
      "/Users/nakul/.pyenv/versions/jupyter3/lib/python3.6/site-packages/ipykernel_launcher.py:3: DeprecationWarning: 'U' mode is deprecated\n",
      "  This is separate from the ipykernel package so we can avoid doing imports until\n"
     ]
    },
    {
     "data": {
      "image/png": "[encoded data removed]",
      "text/plain": [
       "<matplotlib.figure.Figure at 0x1066f3358>"
      ]
     },
     "metadata": {},
     "output_type": "display_data"
    }
   ],
   "source": [
    "# Script\n",
    "\n",
    "# Data\n",
    "cluster_header = \"\\ufeffcluster\"\n",
    "data_points = []\n",
    "clusters = []\n",
    "\n",
    "# Populate data points\n",
    "for row in read_data_iter(\"dbscan_solution.csv\"):\n",
    "    clusters.append(row[cluster_header])\n",
    "    data_points.append((row[\"x\"], row[\"y\"]))\n",
    "\n",
    "cluster_plot(data_points, clusters)"
   ]
  },
  {
   "cell_type": "markdown",
   "metadata": {},
   "source": [
    "## Inference from the plot\n",
    "\n",
    "I'm inferring that the above plot is a reference to the AI Magazine. This is the link to the Table of Contents of the most recent issue(Volume 38, Number 3).\n",
    "\n",
    "The author of the first article \"Steps Toward Robust Artificial Intelligence\" is \"Thomas G. Dietterich\". He is  Emeritus Professor of computer science at Oregon State University.\n",
    "\n",
    "Interesting facts:\n",
    "-----------------\n",
    "1. Thomas G. Dietterich has 347 publications to his credit on Google Scholar. (source: https://scholar.google.com/citations?hl=en&user=09kJn28AAAAJ&view_op=list_works&sortby=title)\n",
    "2. From 2014-2016, he was the President of the Association for the Advancement of Artificial Intelligence(AAAI) (source: https://aaai.org/Organization/past-officers.php)\n",
    "3. As a PhD student, he sang in the Stanford University Chorus. It was in the choir that he met Carol Rivin, who would later become his wife.(source: http://scarc.library.oregonstate.edu/oh150/dietterich/biography.html)"
   ]
  },
  {
   "cell_type": "code",
   "execution_count": null,
   "metadata": {},
   "outputs": [],
   "source": []
  }
 ],
 "metadata": {
  "kernelspec": {
   "display_name": "Python 3",
   "language": "python",
   "name": "python3"
  },
  "language_info": {
   "codemirror_mode": {
    "name": "ipython",
    "version": 3
   },
   "file_extension": ".py",
   "mimetype": "text/x-python",
   "name": "python",
   "nbconvert_exporter": "python",
   "pygments_lexer": "ipython3",
   "version": "3.6.0"
  }
 },
 "nbformat": 4,
 "nbformat_minor": 2
}
