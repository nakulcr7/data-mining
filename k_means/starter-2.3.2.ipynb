{
 "cells": [
  {
   "cell_type": "markdown",
   "metadata": {},
   "source": [
    "# Imports"
   ]
  },
  {
   "cell_type": "code",
   "execution_count": 18,
   "metadata": {},
   "outputs": [],
   "source": [
    "import operator\n",
    "\n",
    "import csv\n",
    "import statistics as stats\n",
    "import math\n",
    "import random\n",
    "\n",
    "import matplotlib.pyplot as plt\n",
    "%matplotlib inline"
   ]
  },
  {
   "cell_type": "markdown",
   "metadata": {},
   "source": [
    "## 1. Load Wine Dataset\n",
    "Loading/analyzing a subset of the [wine dataset](http://archive.ics.uci.edu/ml/datasets/Wine)"
   ]
  },
  {
   "cell_type": "code",
   "execution_count": 19,
   "metadata": {},
   "outputs": [],
   "source": [
    "alcohol = []\n",
    "ascalinity = []\n",
    "\n",
    "with open('wine_data.csv', \"r\") as csvfile:\n",
    "    for row in csv.reader(csvfile):\n",
    "        alcohol.append(float(row[0]))\n",
    "        ascalinity.append(float(row[1]))\n",
    "        \n",
    "data = list(zip(alcohol, ascalinity))"
   ]
  },
  {
   "cell_type": "code",
   "execution_count": 20,
   "metadata": {},
   "outputs": [
    {
     "name": "stdout",
     "output_type": "stream",
     "text": [
      "178 points\n",
      "Alcohol: mean=13.00062, std=0.81183\n",
      "Ascalinity: mean=19.49494, std=3.33956\n"
     ]
    },
    {
     "data": {
      "image/png": "[encoded data removed]",
      "text/plain": [
       "<matplotlib.figure.Figure at 0x10ec3c080>"
      ]
     },
     "metadata": {},
     "output_type": "display_data"
    }
   ],
   "source": [
    "# 1. Overlay histograms of the two features (alcohol, ascalinity)\n",
    "bins = range(10, 31, 1)\n",
    "\n",
    "plt.hist(alcohol, label='alcohol', alpha=0.5, bins=bins)\n",
    "plt.hist(ascalinity, label='ascalinity', alpha=0.5, bins=bins)\n",
    "plt.legend(loc='upper right')\n",
    "\n",
    "# 2. Output count of points, as well as mean & sample standard deviation of the features\n",
    "print(\"{} points\".format(len(data)))\n",
    "print(\"Alcohol: mean={:.5f}, std={:.5f}\".format(stats.mean(alcohol), \n",
    "                                       stats.stdev(alcohol)))\n",
    "print(\"Ascalinity: mean={:.5f}, std={:.5f}\".format(stats.mean(ascalinity), \n",
    "                                          stats.stdev(ascalinity)))"
   ]
  },
  {
   "cell_type": "markdown",
   "metadata": {},
   "source": [
    "# 2. Distance Metrics"
   ]
  },
  {
   "cell_type": "code",
   "execution_count": 21,
   "metadata": {},
   "outputs": [],
   "source": [
    "# returns the sum-squared-error between two points\n",
    "def sse(x1, x2):\n",
    "    return sum([(n1 - n2)**2 for n1, n2 in zip(x1, x2)])\n",
    "        "
   ]
  },
  {
   "cell_type": "code",
   "execution_count": 22,
   "metadata": {},
   "outputs": [],
   "source": [
    "# returns the minkowski distance between x1 and x2\n",
    "def minkowski_distance(x1, x2, q):\n",
    "    return sum([abs(n1 - n2)**q for n1, n2 in zip(x1, x2)])**(1/q)"
   ]
  },
  {
   "cell_type": "code",
   "execution_count": 23,
   "metadata": {},
   "outputs": [],
   "source": [
    "# returns the L2 distance from x1 to x2\n",
    "def euclidean_distance(x1, x2):\n",
    "    return minkowski_distance(x1, x2, 2)"
   ]
  },
  {
   "cell_type": "code",
   "execution_count": 24,
   "metadata": {},
   "outputs": [],
   "source": [
    "# returns the L1 distance from x1 to x2\n",
    "def manhattan_distance(x1, x2):\n",
    "    return minkowski_distance(x1, x2, 1)"
   ]
  },
  {
   "cell_type": "code",
   "execution_count": 25,
   "metadata": {},
   "outputs": [
    {
     "name": "stdout",
     "output_type": "stream",
     "text": [
      "SSE [0, 0] -> [3, 4] = 25.00000, expected=25.00000\n",
      "Euclidean [0, 0] -> [3, 4] = 5.00000, expected=5.00000\n",
      "Euclidean [3, 4] -> [0, 0] = 5.00000, expected=5.00000\n",
      "Manhattan [0, 0] -> [3, 4] = 7.00000, expected=7.00000\n",
      "Manhattan [3, 4] -> [0, 0] = 7.00000, expected=7.00000\n"
     ]
    }
   ],
   "source": [
    "t1 = [0,0]\n",
    "t2 = [3,4]\n",
    "\n",
    "print(\"SSE {} -> {} = {:.5f}, expected={:.5f}\".format(t1, t2, sse(t1, t2), 25.))\n",
    "\n",
    "print(\"Euclidean {} -> {} = {:.5f}, expected={:.5f}\".format(t1, t2, euclidean_distance(t1, t2), 5.))\n",
    "print(\"Euclidean {} -> {} = {:.5f}, expected={:.5f}\".format(t2, t1, euclidean_distance(t2, t1), 5.))\n",
    "\n",
    "print(\"Manhattan {} -> {} = {:.5f}, expected={:.5f}\".format(t1, t2, manhattan_distance(t1, t2), 7.))\n",
    "print(\"Manhattan {} -> {} = {:.5f}, expected={:.5f}\".format(t2, t1, manhattan_distance(t2, t1), 7.))"
   ]
  },
  {
   "cell_type": "markdown",
   "metadata": {},
   "source": [
    "# 3. K-Means"
   ]
  },
  {
   "cell_type": "code",
   "execution_count": 26,
   "metadata": {},
   "outputs": [],
   "source": [
    "# Inputs: centroid locations, point, distance metric\n",
    "# Outputs: centroid index that is closest\n",
    "def choose_cluster(centroids, x, distance_metric):\n",
    "    min_centroid_index = 0\n",
    "    min_dist_to_centroid = float(\"inf\")\n",
    "    for i, centroid in enumerate(centroids):\n",
    "        d = distance_metric(centroid, x)\n",
    "        if d < min_dist_to_centroid:\n",
    "            min_dist_to_centroid = d\n",
    "            min_centroid_index = i\n",
    "    return min_centroid_index"
   ]
  },
  {
   "cell_type": "code",
   "execution_count": 27,
   "metadata": {},
   "outputs": [],
   "source": [
    "# Inputs: list of data points\n",
    "# Outputs: arithmetic mean of the given datapoints\n",
    "def points_avg(data_points):\n",
    "    x_avg = sum(point[0] for point in data_points)/len(data_points)\n",
    "    y_avg = sum(point[1] for point in data_points)/len(data_points)\n",
    "    return (x_avg, y_avg)\n",
    "\n",
    "def points_sse(points1, points2):\n",
    "    sse = 0\n",
    "    for p1, p2 in zip(points1, points2):\n",
    "        d = euclidean\n",
    "\n",
    "# Inputs: \n",
    "#  initial_centroids: locations (length=K)\n",
    "#  data: data points (length=N)\n",
    "#  distance_metric: how to select the closest point in the e-step\n",
    "# \n",
    "# Outputs:\n",
    "#  centroids: locations (length=K)\n",
    "#  new_clusters: for each data point, index of associated cluster\n",
    "#  iterations: count of iterations taken\n",
    "#  total_sse: SSE of final clustering\n",
    "def kmeans(initial_centroids, data, distance_metric):\n",
    "    centroids = initial_centroids[:]\n",
    "    new_clusters = [-1] * len(data)\n",
    "    iterations = 0\n",
    "    total_sse = 0\n",
    "    \n",
    "    old_centroids = [(0, 0) * len(centroids)]\n",
    "    while(old_centroids != centroids):\n",
    "        old_centroids = centroids[:]\n",
    "        iterations += 1\n",
    "        # E step\n",
    "        for i, point in enumerate(data):\n",
    "            new_clusters[i] = choose_cluster(old_centroids, point, distance_metric)\n",
    "        # M step\n",
    "        for i, centroid in enumerate(old_centroids):\n",
    "            data_indices = [d_index for d_index, c_index in enumerate(new_clusters) if c_index == i]\n",
    "            centroids[i] = points_avg([data[d_index] for d_index in data_indices])\n",
    "            \n",
    "    # Computing SSE\n",
    "    for d_point, c_point in zip(data, [centroids[c_index] for c_index in new_clusters]):\n",
    "        total_sse += sse(d_point, c_point)\n",
    "    \n",
    "    return centroids, new_clusters, iterations, total_sse"
   ]
  },
  {
   "cell_type": "code",
   "execution_count": 28,
   "metadata": {},
   "outputs": [],
   "source": [
    "def cluster_plot(centroids, data, clustering):\n",
    "    for i,c in enumerate(centroids):\n",
    "        points = [data[idx] for idx,c in enumerate(clustering) if c == i]\n",
    "        plt.scatter([d[0] for d in points], [d[1] for d in points], label=\"{}\".format(i))\n",
    "        plt.plot(c[0], c[1], 'kx', mew=5, ms=10)"
   ]
  },
  {
   "cell_type": "code",
   "execution_count": 29,
   "metadata": {},
   "outputs": [],
   "source": [
    "initial_centroids = [data[175], data[25], data[67]]"
   ]
  },
  {
   "cell_type": "code",
   "execution_count": 30,
   "metadata": {},
   "outputs": [
    {
     "data": {
      "image/png": "[encoded data removed]",
      "text/plain": [
       "<matplotlib.figure.Figure at 0x10ebf7e10>"
      ]
     },
     "metadata": {},
     "output_type": "display_data"
    }
   ],
   "source": [
    "centroids, clustering, _, _ = kmeans(initial_centroids, data, euclidean_distance)\n",
    "cluster_plot(centroids, data, clustering)"
   ]
  },
  {
   "cell_type": "code",
   "execution_count": 31,
   "metadata": {},
   "outputs": [
    {
     "data": {
      "image/png": "[encoded data removed]",
      "text/plain": [
       "<matplotlib.figure.Figure at 0x10ea9a5f8>"
      ]
     },
     "metadata": {},
     "output_type": "display_data"
    }
   ],
   "source": [
    "centroids, clustering, _, _ = kmeans(initial_centroids, data, manhattan_distance)\n",
    "cluster_plot(centroids, data, clustering)"
   ]
  },
  {
   "cell_type": "code",
   "execution_count": 32,
   "metadata": {},
   "outputs": [
    {
     "data": {
      "image/png": "[encoded data removed]",
      "text/plain": [
       "<matplotlib.figure.Figure at 0x10e8ba6d8>"
      ]
     },
     "metadata": {},
     "output_type": "display_data"
    }
   ],
   "source": [
    "centroids, clustering, _, _ = kmeans(initial_centroids, data, lambda x,y: minkowski_distance(x, y, 3))\n",
    "cluster_plot(centroids, data, clustering)"
   ]
  },
  {
   "cell_type": "markdown",
   "metadata": {},
   "source": [
    "### Conclusions from plots:\n",
    "1. From the above examples, the Euclidean plot is exactly the same as the Minkowski with q=3.\n",
    "2. Using Euclidean as a distance metric as compared to Manhattan leads to more accurate clustering"
   ]
  },
  {
   "cell_type": "markdown",
   "metadata": {},
   "source": [
    "# 4. Choosing K\n",
    "* Runs several trials of K-Means with different initial points (Forgy), recording SSE\n",
    "* Plot SSE vs K\n",
    "* Choose K using the [elbow method](https://en.wikipedia.org/wiki/Elbow_method_(clustering)"
   ]
  },
  {
   "cell_type": "code",
   "execution_count": 33,
   "metadata": {},
   "outputs": [
    {
     "data": {
      "text/plain": [
       "<matplotlib.text.Text at 0x10e8d8630>"
      ]
     },
     "execution_count": 33,
     "metadata": {},
     "output_type": "execute_result"
    },
    {
     "data": {
      "image/png": "[encoded data removed]",
      "text/plain": [
       "<matplotlib.figure.Figure at 0x10ed2a0b8>"
      ]
     },
     "metadata": {},
     "output_type": "display_data"
    }
   ],
   "source": [
    "max_clusters = 10\n",
    "trials = 5\n",
    "\n",
    "clusters = []\n",
    "sses = []\n",
    "\n",
    "random.seed(8675309)\n",
    "\n",
    "len(data)\n",
    "\n",
    "# 1. Perform 5 trials (randomizing initial points ala Forgy) for each of K=1, 2, ... 10\n",
    "for k in range(1, max_clusters + 1):\n",
    "    clusters.append(k)\n",
    "    total_sse_k = []\n",
    "    initial_centroids = [data[rand_i] for rand_i in [random.randint(0, len(data) - 1) for i in range(k)]]\n",
    "    for trial in range(1, trials + 1):\n",
    "        _, _, _, sse_k_trial = kmeans(initial_centroids, data, euclidean_distance)\n",
    "        total_sse_k.append(sse_k_trial)\n",
    "    sses.append(stats.mean(total_sse_k))\n",
    "\n",
    "\n",
    "# 2. Plot SSE vs K    \n",
    "plt.plot(clusters, sses)\n",
    "plt.xticks(range(1, len(clusters)+1, 1))\n",
    "plt.title('SSE vs Clusters')"
   ]
  },
  {
   "cell_type": "markdown",
   "metadata": {},
   "source": [
    "A reasonable value for K seems to be 4. '3' and '4' seem to be 'elbow' points in the above graph. However, the total SSE drops by approximately 50% if k=4 is chosen instead of k=3"
   ]
  }
 ],
 "metadata": {
  "kernelspec": {
   "display_name": "Python 3",
   "language": "python",
   "name": "python3"
  },
  "language_info": {
   "codemirror_mode": {
    "name": "ipython",
    "version": 3
   },
   "file_extension": ".py",
   "mimetype": "text/x-python",
   "name": "python",
   "nbconvert_exporter": "python",
   "pygments_lexer": "ipython3",
   "version": "3.6.0"
  }
 },
 "nbformat": 4,
 "nbformat_minor": 2
}
