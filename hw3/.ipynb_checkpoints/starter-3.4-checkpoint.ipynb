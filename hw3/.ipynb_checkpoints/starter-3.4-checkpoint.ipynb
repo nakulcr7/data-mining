{
 "cells": [
  {
   "cell_type": "markdown",
   "metadata": {},
   "source": [
    "# Do not change imports"
   ]
  },
  {
   "cell_type": "code",
   "execution_count": 1,
   "metadata": {},
   "outputs": [],
   "source": [
    "import pandas as pd\n",
    "import numpy as np\n",
    "from scipy.sparse.linalg import svds\n",
    "\n",
    "from sklearn.metrics import mean_squared_error as mse\n",
    "from sklearn.metrics.pairwise import cosine_similarity\n",
    "\n",
    "from urllib.parse import urljoin\n",
    "import itertools\n",
    "import random\n",
    "\n",
    "import matplotlib.pyplot as plt\n",
    "%matplotlib inline"
   ]
  },
  {
   "cell_type": "markdown",
   "metadata": {},
   "source": [
    "# A. MovieLens 100K Dataset: EDA via Pandas\n",
    "TODO: Read the README (https://grouplens.org/datasets/movielens/100k/)"
   ]
  },
  {
   "cell_type": "code",
   "execution_count": 2,
   "metadata": {},
   "outputs": [],
   "source": [
    "ML_100k_BASE_URL = 'http://files.grouplens.org/datasets/movielens/ml-100k/'\n",
    "\n",
    "def movielens_url(fname):\n",
    "    return urljoin(ML_100k_BASE_URL, fname)"
   ]
  },
  {
   "cell_type": "markdown",
   "metadata": {},
   "source": [
    "## A.1. Read Genres"
   ]
  },
  {
   "cell_type": "code",
   "execution_count": 3,
   "metadata": {},
   "outputs": [
    {
     "data": {
      "text/html": [
       "<div>\n",
       "<style scoped>\n",
       "    .dataframe tbody tr th:only-of-type {\n",
       "        vertical-align: middle;\n",
       "    }\n",
       "\n",
       "    .dataframe tbody tr th {\n",
       "        vertical-align: top;\n",
       "    }\n",
       "\n",
       "    .dataframe thead th {\n",
       "        text-align: right;\n",
       "    }\n",
       "</style>\n",
       "<table border=\"1\" class=\"dataframe\">\n",
       "  <thead>\n",
       "    <tr style=\"text-align: right;\">\n",
       "      <th></th>\n",
       "      <th>genre</th>\n",
       "      <th>genre_id</th>\n",
       "    </tr>\n",
       "  </thead>\n",
       "  <tbody>\n",
       "    <tr>\n",
       "      <th>0</th>\n",
       "      <td>unknown</td>\n",
       "      <td>0</td>\n",
       "    </tr>\n",
       "    <tr>\n",
       "      <th>1</th>\n",
       "      <td>Action</td>\n",
       "      <td>1</td>\n",
       "    </tr>\n",
       "    <tr>\n",
       "      <th>2</th>\n",
       "      <td>Adventure</td>\n",
       "      <td>2</td>\n",
       "    </tr>\n",
       "    <tr>\n",
       "      <th>3</th>\n",
       "      <td>Animation</td>\n",
       "      <td>3</td>\n",
       "    </tr>\n",
       "    <tr>\n",
       "      <th>4</th>\n",
       "      <td>Children's</td>\n",
       "      <td>4</td>\n",
       "    </tr>\n",
       "    <tr>\n",
       "      <th>5</th>\n",
       "      <td>Comedy</td>\n",
       "      <td>5</td>\n",
       "    </tr>\n",
       "    <tr>\n",
       "      <th>6</th>\n",
       "      <td>Crime</td>\n",
       "      <td>6</td>\n",
       "    </tr>\n",
       "    <tr>\n",
       "      <th>7</th>\n",
       "      <td>Documentary</td>\n",
       "      <td>7</td>\n",
       "    </tr>\n",
       "    <tr>\n",
       "      <th>8</th>\n",
       "      <td>Drama</td>\n",
       "      <td>8</td>\n",
       "    </tr>\n",
       "    <tr>\n",
       "      <th>9</th>\n",
       "      <td>Fantasy</td>\n",
       "      <td>9</td>\n",
       "    </tr>\n",
       "    <tr>\n",
       "      <th>10</th>\n",
       "      <td>Film-Noir</td>\n",
       "      <td>10</td>\n",
       "    </tr>\n",
       "    <tr>\n",
       "      <th>11</th>\n",
       "      <td>Horror</td>\n",
       "      <td>11</td>\n",
       "    </tr>\n",
       "    <tr>\n",
       "      <th>12</th>\n",
       "      <td>Musical</td>\n",
       "      <td>12</td>\n",
       "    </tr>\n",
       "    <tr>\n",
       "      <th>13</th>\n",
       "      <td>Mystery</td>\n",
       "      <td>13</td>\n",
       "    </tr>\n",
       "    <tr>\n",
       "      <th>14</th>\n",
       "      <td>Romance</td>\n",
       "      <td>14</td>\n",
       "    </tr>\n",
       "    <tr>\n",
       "      <th>15</th>\n",
       "      <td>Sci-Fi</td>\n",
       "      <td>15</td>\n",
       "    </tr>\n",
       "    <tr>\n",
       "      <th>16</th>\n",
       "      <td>Thriller</td>\n",
       "      <td>16</td>\n",
       "    </tr>\n",
       "    <tr>\n",
       "      <th>17</th>\n",
       "      <td>War</td>\n",
       "      <td>17</td>\n",
       "    </tr>\n",
       "    <tr>\n",
       "      <th>18</th>\n",
       "      <td>Western</td>\n",
       "      <td>18</td>\n",
       "    </tr>\n",
       "  </tbody>\n",
       "</table>\n",
       "</div>"
      ],
      "text/plain": [
       "          genre  genre_id\n",
       "0       unknown         0\n",
       "1        Action         1\n",
       "2     Adventure         2\n",
       "3     Animation         3\n",
       "4    Children's         4\n",
       "5        Comedy         5\n",
       "6         Crime         6\n",
       "7   Documentary         7\n",
       "8         Drama         8\n",
       "9       Fantasy         9\n",
       "10    Film-Noir        10\n",
       "11       Horror        11\n",
       "12      Musical        12\n",
       "13      Mystery        13\n",
       "14      Romance        14\n",
       "15       Sci-Fi        15\n",
       "16     Thriller        16\n",
       "17          War        17\n",
       "18      Western        18"
      ]
     },
     "execution_count": 3,
     "metadata": {},
     "output_type": "execute_result"
    }
   ],
   "source": [
    "# names of the columns - see README, u.genre\n",
    "genre_cols = ['genre', 'genre_id']\n",
    "\n",
    "genres = pd.read_csv(movielens_url('u.genre'), sep='|', names=genre_cols)\n",
    "\n",
    "genres"
   ]
  },
  {
   "cell_type": "markdown",
   "metadata": {},
   "source": [
    "## A.2. Read Users"
   ]
  },
  {
   "cell_type": "code",
   "execution_count": 4,
   "metadata": {},
   "outputs": [
    {
     "name": "stdout",
     "output_type": "stream",
     "text": [
      "<class 'pandas.core.frame.DataFrame'>\n",
      "RangeIndex: 943 entries, 0 to 942\n",
      "Data columns (total 5 columns):\n",
      "user_id       943 non-null int64\n",
      "age           943 non-null int64\n",
      "sex           943 non-null object\n",
      "occupation    943 non-null object\n",
      "zip_code      943 non-null object\n",
      "dtypes: int64(2), object(3)\n",
      "memory usage: 36.9+ KB\n"
     ]
    }
   ],
   "source": [
    "user_cols = ['user_id', 'age', 'sex', 'occupation', 'zip_code']\n",
    "\n",
    "# TODO: read users from u.user\n",
    "# user id | age | gender | occupation | zip code\n",
    "users = pd.read_csv(movielens_url('u.user'), sep='|', names=user_cols)\n",
    "\n",
    "users.info()"
   ]
  },
  {
   "cell_type": "markdown",
   "metadata": {},
   "source": [
    "## A.3. Read Movies"
   ]
  },
  {
   "cell_type": "code",
   "execution_count": 5,
   "metadata": {},
   "outputs": [
    {
     "name": "stdout",
     "output_type": "stream",
     "text": [
      "<class 'pandas.core.frame.DataFrame'>\n",
      "RangeIndex: 1682 entries, 0 to 1681\n",
      "Data columns (total 24 columns):\n",
      "movie_id              1682 non-null int64\n",
      "movie_title           1682 non-null object\n",
      "release_date          1681 non-null object\n",
      "video_release_date    0 non-null float64\n",
      "IMDb_URL              1679 non-null object\n",
      "unknown               1682 non-null int64\n",
      "Action                1682 non-null int64\n",
      "Adventure             1682 non-null int64\n",
      "Animation             1682 non-null int64\n",
      "Children's            1682 non-null int64\n",
      "Comedy                1682 non-null int64\n",
      "Crime                 1682 non-null int64\n",
      "Documentary           1682 non-null int64\n",
      "Drama                 1682 non-null int64\n",
      "Fantasy               1682 non-null int64\n",
      "Film-Noir             1682 non-null int64\n",
      "Horror                1682 non-null int64\n",
      "Musical               1682 non-null int64\n",
      "Mystery               1682 non-null int64\n",
      "Romance               1682 non-null int64\n",
      "Sci-Fi                1682 non-null int64\n",
      "Thriller              1682 non-null int64\n",
      "War                   1682 non-null int64\n",
      "Western               1682 non-null int64\n",
      "dtypes: float64(1), int64(20), object(3)\n",
      "memory usage: 315.5+ KB\n"
     ]
    }
   ],
   "source": [
    "# Be lazy - let the genre table tell you the last set of column names\n",
    "movie_cols = ['movie_id','movie_title','release_date','video_release_date','IMDb_URL'] + [g for g in genres.sort_values(by='genre_id')['genre']]\n",
    "\n",
    "# TODO: read movies from u.item\n",
    "movies = pd.read_csv(movielens_url('u.item'), sep='|', names=movie_cols, encoding='latin-1')\n",
    "\n",
    "movies.info()"
   ]
  },
  {
   "cell_type": "code",
   "execution_count": 6,
   "metadata": {},
   "outputs": [
    {
     "data": {
      "text/html": [
       "<div>\n",
       "<style scoped>\n",
       "    .dataframe tbody tr th:only-of-type {\n",
       "        vertical-align: middle;\n",
       "    }\n",
       "\n",
       "    .dataframe tbody tr th {\n",
       "        vertical-align: top;\n",
       "    }\n",
       "\n",
       "    .dataframe thead th {\n",
       "        text-align: right;\n",
       "    }\n",
       "</style>\n",
       "<table border=\"1\" class=\"dataframe\">\n",
       "  <thead>\n",
       "    <tr style=\"text-align: right;\">\n",
       "      <th></th>\n",
       "      <th>movie_id</th>\n",
       "      <th>movie_title</th>\n",
       "      <th>release_date</th>\n",
       "      <th>video_release_date</th>\n",
       "      <th>IMDb_URL</th>\n",
       "      <th>unknown</th>\n",
       "      <th>Action</th>\n",
       "      <th>Adventure</th>\n",
       "      <th>Animation</th>\n",
       "      <th>Children's</th>\n",
       "      <th>...</th>\n",
       "      <th>Fantasy</th>\n",
       "      <th>Film-Noir</th>\n",
       "      <th>Horror</th>\n",
       "      <th>Musical</th>\n",
       "      <th>Mystery</th>\n",
       "      <th>Romance</th>\n",
       "      <th>Sci-Fi</th>\n",
       "      <th>Thriller</th>\n",
       "      <th>War</th>\n",
       "      <th>Western</th>\n",
       "    </tr>\n",
       "  </thead>\n",
       "  <tbody>\n",
       "    <tr>\n",
       "      <th>266</th>\n",
       "      <td>267</td>\n",
       "      <td>unknown</td>\n",
       "      <td>NaN</td>\n",
       "      <td>NaN</td>\n",
       "      <td>NaN</td>\n",
       "      <td>1</td>\n",
       "      <td>0</td>\n",
       "      <td>0</td>\n",
       "      <td>0</td>\n",
       "      <td>0</td>\n",
       "      <td>...</td>\n",
       "      <td>0</td>\n",
       "      <td>0</td>\n",
       "      <td>0</td>\n",
       "      <td>0</td>\n",
       "      <td>0</td>\n",
       "      <td>0</td>\n",
       "      <td>0</td>\n",
       "      <td>0</td>\n",
       "      <td>0</td>\n",
       "      <td>0</td>\n",
       "    </tr>\n",
       "  </tbody>\n",
       "</table>\n",
       "<p>1 rows × 24 columns</p>\n",
       "</div>"
      ],
      "text/plain": [
       "     movie_id movie_title release_date  video_release_date IMDb_URL  unknown  \\\n",
       "266       267     unknown          NaN                 NaN      NaN        1   \n",
       "\n",
       "     Action  Adventure  Animation  Children's   ...     Fantasy  Film-Noir  \\\n",
       "266       0          0          0           0   ...           0          0   \n",
       "\n",
       "     Horror  Musical  Mystery  Romance  Sci-Fi  Thriller  War  Western  \n",
       "266       0        0        0        0       0         0    0        0  \n",
       "\n",
       "[1 rows x 24 columns]"
      ]
     },
     "execution_count": 6,
     "metadata": {},
     "output_type": "execute_result"
    }
   ],
   "source": [
    "# TODO: Interesting... find the row with a null release_date!\n",
    "movies.loc[movies.release_date.isnull()]"
   ]
  },
  {
   "cell_type": "code",
   "execution_count": 7,
   "metadata": {},
   "outputs": [
    {
     "data": {
      "text/html": [
       "<div>\n",
       "<style scoped>\n",
       "    .dataframe tbody tr th:only-of-type {\n",
       "        vertical-align: middle;\n",
       "    }\n",
       "\n",
       "    .dataframe tbody tr th {\n",
       "        vertical-align: top;\n",
       "    }\n",
       "\n",
       "    .dataframe thead th {\n",
       "        text-align: right;\n",
       "    }\n",
       "</style>\n",
       "<table border=\"1\" class=\"dataframe\">\n",
       "  <thead>\n",
       "    <tr style=\"text-align: right;\">\n",
       "      <th></th>\n",
       "      <th>movie_id</th>\n",
       "      <th>movie_title</th>\n",
       "      <th>release_date</th>\n",
       "      <th>video_release_date</th>\n",
       "      <th>IMDb_URL</th>\n",
       "      <th>unknown</th>\n",
       "      <th>Action</th>\n",
       "      <th>Adventure</th>\n",
       "      <th>Animation</th>\n",
       "      <th>Children's</th>\n",
       "      <th>...</th>\n",
       "      <th>Fantasy</th>\n",
       "      <th>Film-Noir</th>\n",
       "      <th>Horror</th>\n",
       "      <th>Musical</th>\n",
       "      <th>Mystery</th>\n",
       "      <th>Romance</th>\n",
       "      <th>Sci-Fi</th>\n",
       "      <th>Thriller</th>\n",
       "      <th>War</th>\n",
       "      <th>Western</th>\n",
       "    </tr>\n",
       "  </thead>\n",
       "  <tbody>\n",
       "  </tbody>\n",
       "</table>\n",
       "<p>0 rows × 24 columns</p>\n",
       "</div>"
      ],
      "text/plain": [
       "Empty DataFrame\n",
       "Columns: [movie_id, movie_title, release_date, video_release_date, IMDb_URL, unknown, Action, Adventure, Animation, Children's, Comedy, Crime, Documentary, Drama, Fantasy, Film-Noir, Horror, Musical, Mystery, Romance, Sci-Fi, Thriller, War, Western]\n",
       "Index: []\n",
       "\n",
       "[0 rows x 24 columns]"
      ]
     },
     "execution_count": 7,
     "metadata": {},
     "output_type": "execute_result"
    }
   ],
   "source": [
    "# TODO: assign movie_id (to check/clean up ratings later)\n",
    "bad_row_id = 266\n",
    "\n",
    "# drop the row (in place!)\n",
    "movies.drop(movies.loc[pd.isnull(movies.release_date)].index, inplace=True)\n",
    "\n",
    "# TODO: confirm it's gone\n",
    "movies.loc[movies.release_date.isnull()]"
   ]
  },
  {
   "cell_type": "code",
   "execution_count": 8,
   "metadata": {},
   "outputs": [
    {
     "data": {
      "text/html": [
       "<div>\n",
       "<style scoped>\n",
       "    .dataframe tbody tr th:only-of-type {\n",
       "        vertical-align: middle;\n",
       "    }\n",
       "\n",
       "    .dataframe tbody tr th {\n",
       "        vertical-align: top;\n",
       "    }\n",
       "\n",
       "    .dataframe thead th {\n",
       "        text-align: right;\n",
       "    }\n",
       "</style>\n",
       "<table border=\"1\" class=\"dataframe\">\n",
       "  <thead>\n",
       "    <tr style=\"text-align: right;\">\n",
       "      <th></th>\n",
       "      <th>movie_id</th>\n",
       "      <th>movie_title</th>\n",
       "      <th>release_date</th>\n",
       "      <th>video_release_date</th>\n",
       "      <th>IMDb_URL</th>\n",
       "      <th>unknown</th>\n",
       "      <th>Action</th>\n",
       "      <th>Adventure</th>\n",
       "      <th>Animation</th>\n",
       "      <th>Children's</th>\n",
       "      <th>...</th>\n",
       "      <th>Fantasy</th>\n",
       "      <th>Film-Noir</th>\n",
       "      <th>Horror</th>\n",
       "      <th>Musical</th>\n",
       "      <th>Mystery</th>\n",
       "      <th>Romance</th>\n",
       "      <th>Sci-Fi</th>\n",
       "      <th>Thriller</th>\n",
       "      <th>War</th>\n",
       "      <th>Western</th>\n",
       "    </tr>\n",
       "  </thead>\n",
       "  <tbody>\n",
       "    <tr>\n",
       "      <th>1357</th>\n",
       "      <td>1358</td>\n",
       "      <td>The Deadly Cure (1996)</td>\n",
       "      <td>16-Sep-1996</td>\n",
       "      <td>NaN</td>\n",
       "      <td>NaN</td>\n",
       "      <td>0</td>\n",
       "      <td>1</td>\n",
       "      <td>0</td>\n",
       "      <td>0</td>\n",
       "      <td>0</td>\n",
       "      <td>...</td>\n",
       "      <td>0</td>\n",
       "      <td>0</td>\n",
       "      <td>0</td>\n",
       "      <td>0</td>\n",
       "      <td>0</td>\n",
       "      <td>0</td>\n",
       "      <td>0</td>\n",
       "      <td>0</td>\n",
       "      <td>0</td>\n",
       "      <td>0</td>\n",
       "    </tr>\n",
       "    <tr>\n",
       "      <th>1358</th>\n",
       "      <td>1359</td>\n",
       "      <td>Boys in Venice (1996)</td>\n",
       "      <td>24-Sep-1996</td>\n",
       "      <td>NaN</td>\n",
       "      <td>NaN</td>\n",
       "      <td>0</td>\n",
       "      <td>0</td>\n",
       "      <td>0</td>\n",
       "      <td>0</td>\n",
       "      <td>0</td>\n",
       "      <td>...</td>\n",
       "      <td>0</td>\n",
       "      <td>0</td>\n",
       "      <td>0</td>\n",
       "      <td>0</td>\n",
       "      <td>0</td>\n",
       "      <td>0</td>\n",
       "      <td>0</td>\n",
       "      <td>0</td>\n",
       "      <td>0</td>\n",
       "      <td>0</td>\n",
       "    </tr>\n",
       "  </tbody>\n",
       "</table>\n",
       "<p>2 rows × 24 columns</p>\n",
       "</div>"
      ],
      "text/plain": [
       "      movie_id             movie_title release_date  video_release_date  \\\n",
       "1357      1358  The Deadly Cure (1996)  16-Sep-1996                 NaN   \n",
       "1358      1359   Boys in Venice (1996)  24-Sep-1996                 NaN   \n",
       "\n",
       "     IMDb_URL  unknown  Action  Adventure  Animation  Children's   ...     \\\n",
       "1357      NaN        0       1          0          0           0   ...      \n",
       "1358      NaN        0       0          0          0           0   ...      \n",
       "\n",
       "      Fantasy  Film-Noir  Horror  Musical  Mystery  Romance  Sci-Fi  Thriller  \\\n",
       "1357        0          0       0        0        0        0       0         0   \n",
       "1358        0          0       0        0        0        0       0         0   \n",
       "\n",
       "      War  Western  \n",
       "1357    0        0  \n",
       "1358    0        0  \n",
       "\n",
       "[2 rows x 24 columns]"
      ]
     },
     "execution_count": 8,
     "metadata": {},
     "output_type": "execute_result"
    }
   ],
   "source": [
    "# TODO: output a table including only the movies with null IMDB urls\n",
    "movies.loc[movies.IMDb_URL.isnull()]"
   ]
  },
  {
   "cell_type": "code",
   "execution_count": 9,
   "metadata": {},
   "outputs": [
    {
     "data": {
      "text/plain": [
       "movie_id                                1358\n",
       "movie_title           The Deadly Cure (1996)\n",
       "release_date                     16-Sep-1996\n",
       "video_release_date                       NaN\n",
       "IMDb_URL                                 NaN\n",
       "unknown                                    0\n",
       "Action                                     1\n",
       "Adventure                                  0\n",
       "Animation                                  0\n",
       "Children's                                 0\n",
       "Comedy                                     0\n",
       "Crime                                      0\n",
       "Documentary                                0\n",
       "Drama                                      0\n",
       "Fantasy                                    0\n",
       "Film-Noir                                  0\n",
       "Horror                                     0\n",
       "Musical                                    0\n",
       "Mystery                                    0\n",
       "Romance                                    0\n",
       "Sci-Fi                                     0\n",
       "Thriller                                   0\n",
       "War                                        0\n",
       "Western                                    0\n",
       "Name: 1357, dtype: object"
      ]
     },
     "execution_count": 9,
     "metadata": {},
     "output_type": "execute_result"
    }
   ],
   "source": [
    "# output all the fields of the first row\n",
    "movies.loc[1357]"
   ]
  },
  {
   "cell_type": "markdown",
   "metadata": {},
   "source": [
    "TODO: Try finding this movie with Google (it does exist) - what is special/different about it?"
   ]
  },
  {
   "cell_type": "code",
   "execution_count": 10,
   "metadata": {},
   "outputs": [
    {
     "data": {
      "text/plain": [
       "movie_id                               1359\n",
       "movie_title           Boys in Venice (1996)\n",
       "release_date                    24-Sep-1996\n",
       "video_release_date                      NaN\n",
       "IMDb_URL                                NaN\n",
       "unknown                                   0\n",
       "Action                                    0\n",
       "Adventure                                 0\n",
       "Animation                                 0\n",
       "Children's                                0\n",
       "Comedy                                    0\n",
       "Crime                                     0\n",
       "Documentary                               0\n",
       "Drama                                     1\n",
       "Fantasy                                   0\n",
       "Film-Noir                                 0\n",
       "Horror                                    0\n",
       "Musical                                   0\n",
       "Mystery                                   0\n",
       "Romance                                   0\n",
       "Sci-Fi                                    0\n",
       "Thriller                                  0\n",
       "War                                       0\n",
       "Western                                   0\n",
       "Name: 1358, dtype: object"
      ]
     },
     "execution_count": 10,
     "metadata": {},
     "output_type": "execute_result"
    }
   ],
   "source": [
    "# TODO: output all the fields of the second row\n",
    "movies.loc[1358]"
   ]
  },
  {
   "cell_type": "markdown",
   "metadata": {},
   "source": [
    "TODO: Try finding this movie with Google - comment on the likely name/origin of this movie\n",
    "\n",
    "This looks like a mistake. The title should've been `Boys`(http://www.imdb.com/title/tt0115742/) instead of `Boys from Venice`. "
   ]
  },
  {
   "cell_type": "code",
   "execution_count": 11,
   "metadata": {},
   "outputs": [
    {
     "data": {
      "text/html": [
       "<div>\n",
       "<style scoped>\n",
       "    .dataframe tbody tr th:only-of-type {\n",
       "        vertical-align: middle;\n",
       "    }\n",
       "\n",
       "    .dataframe tbody tr th {\n",
       "        vertical-align: top;\n",
       "    }\n",
       "\n",
       "    .dataframe thead th {\n",
       "        text-align: right;\n",
       "    }\n",
       "</style>\n",
       "<table border=\"1\" class=\"dataframe\">\n",
       "  <thead>\n",
       "    <tr style=\"text-align: right;\">\n",
       "      <th></th>\n",
       "      <th>movie_id</th>\n",
       "      <th>movie_title</th>\n",
       "      <th>release_date</th>\n",
       "      <th>video_release_date</th>\n",
       "      <th>IMDb_URL</th>\n",
       "      <th>unknown</th>\n",
       "      <th>Action</th>\n",
       "      <th>Adventure</th>\n",
       "      <th>Animation</th>\n",
       "      <th>Children's</th>\n",
       "      <th>...</th>\n",
       "      <th>Fantasy</th>\n",
       "      <th>Film-Noir</th>\n",
       "      <th>Horror</th>\n",
       "      <th>Musical</th>\n",
       "      <th>Mystery</th>\n",
       "      <th>Romance</th>\n",
       "      <th>Sci-Fi</th>\n",
       "      <th>Thriller</th>\n",
       "      <th>War</th>\n",
       "      <th>Western</th>\n",
       "    </tr>\n",
       "  </thead>\n",
       "  <tbody>\n",
       "    <tr>\n",
       "      <th>1372</th>\n",
       "      <td>1373</td>\n",
       "      <td>Good Morning (1971)</td>\n",
       "      <td>4-Feb-1971</td>\n",
       "      <td>NaN</td>\n",
       "      <td>http://us.imdb.com/M/title-exact?Good%20Mornin...</td>\n",
       "      <td>1</td>\n",
       "      <td>0</td>\n",
       "      <td>0</td>\n",
       "      <td>0</td>\n",
       "      <td>0</td>\n",
       "      <td>...</td>\n",
       "      <td>0</td>\n",
       "      <td>0</td>\n",
       "      <td>0</td>\n",
       "      <td>0</td>\n",
       "      <td>0</td>\n",
       "      <td>0</td>\n",
       "      <td>0</td>\n",
       "      <td>0</td>\n",
       "      <td>0</td>\n",
       "      <td>0</td>\n",
       "    </tr>\n",
       "  </tbody>\n",
       "</table>\n",
       "<p>1 rows × 24 columns</p>\n",
       "</div>"
      ],
      "text/plain": [
       "      movie_id          movie_title release_date  video_release_date  \\\n",
       "1372      1373  Good Morning (1971)   4-Feb-1971                 NaN   \n",
       "\n",
       "                                               IMDb_URL  unknown  Action  \\\n",
       "1372  http://us.imdb.com/M/title-exact?Good%20Mornin...        1       0   \n",
       "\n",
       "      Adventure  Animation  Children's   ...     Fantasy  Film-Noir  Horror  \\\n",
       "1372          0          0           0   ...           0          0       0   \n",
       "\n",
       "      Musical  Mystery  Romance  Sci-Fi  Thriller  War  Western  \n",
       "1372        0        0        0       0         0    0        0  \n",
       "\n",
       "[1 rows x 24 columns]"
      ]
     },
     "execution_count": 11,
     "metadata": {},
     "output_type": "execute_result"
    }
   ],
   "source": [
    "# TODO: there is one movie with an unknown genre - what is it?\n",
    "movies.loc[movies.unknown==1]"
   ]
  },
  {
   "cell_type": "markdown",
   "metadata": {},
   "source": [
    "TODO: find this movie using Google - what is special about it? what would you indicate as its genre?\n",
    "\n",
    "I would include the movie in the `comedy` genre."
   ]
  },
  {
   "cell_type": "code",
   "execution_count": 12,
   "metadata": {},
   "outputs": [
    {
     "data": {
      "text/html": [
       "<div>\n",
       "<style scoped>\n",
       "    .dataframe tbody tr th:only-of-type {\n",
       "        vertical-align: middle;\n",
       "    }\n",
       "\n",
       "    .dataframe tbody tr th {\n",
       "        vertical-align: top;\n",
       "    }\n",
       "\n",
       "    .dataframe thead th {\n",
       "        text-align: right;\n",
       "    }\n",
       "</style>\n",
       "<table border=\"1\" class=\"dataframe\">\n",
       "  <thead>\n",
       "    <tr style=\"text-align: right;\">\n",
       "      <th></th>\n",
       "      <th>movie_id</th>\n",
       "      <th>movie_title</th>\n",
       "      <th>release_date</th>\n",
       "      <th>unknown</th>\n",
       "      <th>Action</th>\n",
       "      <th>Adventure</th>\n",
       "      <th>Animation</th>\n",
       "      <th>Children's</th>\n",
       "      <th>Comedy</th>\n",
       "      <th>Crime</th>\n",
       "      <th>...</th>\n",
       "      <th>Fantasy</th>\n",
       "      <th>Film-Noir</th>\n",
       "      <th>Horror</th>\n",
       "      <th>Musical</th>\n",
       "      <th>Mystery</th>\n",
       "      <th>Romance</th>\n",
       "      <th>Sci-Fi</th>\n",
       "      <th>Thriller</th>\n",
       "      <th>War</th>\n",
       "      <th>Western</th>\n",
       "    </tr>\n",
       "  </thead>\n",
       "  <tbody>\n",
       "    <tr>\n",
       "      <th>0</th>\n",
       "      <td>1</td>\n",
       "      <td>Toy Story (1995)</td>\n",
       "      <td>01-Jan-1995</td>\n",
       "      <td>0</td>\n",
       "      <td>0</td>\n",
       "      <td>0</td>\n",
       "      <td>1</td>\n",
       "      <td>1</td>\n",
       "      <td>1</td>\n",
       "      <td>0</td>\n",
       "      <td>...</td>\n",
       "      <td>0</td>\n",
       "      <td>0</td>\n",
       "      <td>0</td>\n",
       "      <td>0</td>\n",
       "      <td>0</td>\n",
       "      <td>0</td>\n",
       "      <td>0</td>\n",
       "      <td>0</td>\n",
       "      <td>0</td>\n",
       "      <td>0</td>\n",
       "    </tr>\n",
       "    <tr>\n",
       "      <th>1</th>\n",
       "      <td>2</td>\n",
       "      <td>GoldenEye (1995)</td>\n",
       "      <td>01-Jan-1995</td>\n",
       "      <td>0</td>\n",
       "      <td>1</td>\n",
       "      <td>1</td>\n",
       "      <td>0</td>\n",
       "      <td>0</td>\n",
       "      <td>0</td>\n",
       "      <td>0</td>\n",
       "      <td>...</td>\n",
       "      <td>0</td>\n",
       "      <td>0</td>\n",
       "      <td>0</td>\n",
       "      <td>0</td>\n",
       "      <td>0</td>\n",
       "      <td>0</td>\n",
       "      <td>0</td>\n",
       "      <td>1</td>\n",
       "      <td>0</td>\n",
       "      <td>0</td>\n",
       "    </tr>\n",
       "    <tr>\n",
       "      <th>2</th>\n",
       "      <td>3</td>\n",
       "      <td>Four Rooms (1995)</td>\n",
       "      <td>01-Jan-1995</td>\n",
       "      <td>0</td>\n",
       "      <td>0</td>\n",
       "      <td>0</td>\n",
       "      <td>0</td>\n",
       "      <td>0</td>\n",
       "      <td>0</td>\n",
       "      <td>0</td>\n",
       "      <td>...</td>\n",
       "      <td>0</td>\n",
       "      <td>0</td>\n",
       "      <td>0</td>\n",
       "      <td>0</td>\n",
       "      <td>0</td>\n",
       "      <td>0</td>\n",
       "      <td>0</td>\n",
       "      <td>1</td>\n",
       "      <td>0</td>\n",
       "      <td>0</td>\n",
       "    </tr>\n",
       "    <tr>\n",
       "      <th>3</th>\n",
       "      <td>4</td>\n",
       "      <td>Get Shorty (1995)</td>\n",
       "      <td>01-Jan-1995</td>\n",
       "      <td>0</td>\n",
       "      <td>1</td>\n",
       "      <td>0</td>\n",
       "      <td>0</td>\n",
       "      <td>0</td>\n",
       "      <td>1</td>\n",
       "      <td>0</td>\n",
       "      <td>...</td>\n",
       "      <td>0</td>\n",
       "      <td>0</td>\n",
       "      <td>0</td>\n",
       "      <td>0</td>\n",
       "      <td>0</td>\n",
       "      <td>0</td>\n",
       "      <td>0</td>\n",
       "      <td>0</td>\n",
       "      <td>0</td>\n",
       "      <td>0</td>\n",
       "    </tr>\n",
       "    <tr>\n",
       "      <th>4</th>\n",
       "      <td>5</td>\n",
       "      <td>Copycat (1995)</td>\n",
       "      <td>01-Jan-1995</td>\n",
       "      <td>0</td>\n",
       "      <td>0</td>\n",
       "      <td>0</td>\n",
       "      <td>0</td>\n",
       "      <td>0</td>\n",
       "      <td>0</td>\n",
       "      <td>1</td>\n",
       "      <td>...</td>\n",
       "      <td>0</td>\n",
       "      <td>0</td>\n",
       "      <td>0</td>\n",
       "      <td>0</td>\n",
       "      <td>0</td>\n",
       "      <td>0</td>\n",
       "      <td>0</td>\n",
       "      <td>1</td>\n",
       "      <td>0</td>\n",
       "      <td>0</td>\n",
       "    </tr>\n",
       "  </tbody>\n",
       "</table>\n",
       "<p>5 rows × 22 columns</p>\n",
       "</div>"
      ],
      "text/plain": [
       "   movie_id        movie_title release_date  unknown  Action  Adventure  \\\n",
       "0         1   Toy Story (1995)  01-Jan-1995        0       0          0   \n",
       "1         2   GoldenEye (1995)  01-Jan-1995        0       1          1   \n",
       "2         3  Four Rooms (1995)  01-Jan-1995        0       0          0   \n",
       "3         4  Get Shorty (1995)  01-Jan-1995        0       1          0   \n",
       "4         5     Copycat (1995)  01-Jan-1995        0       0          0   \n",
       "\n",
       "   Animation  Children's  Comedy  Crime   ...     Fantasy  Film-Noir  Horror  \\\n",
       "0          1           1       1      0   ...           0          0       0   \n",
       "1          0           0       0      0   ...           0          0       0   \n",
       "2          0           0       0      0   ...           0          0       0   \n",
       "3          0           0       1      0   ...           0          0       0   \n",
       "4          0           0       0      1   ...           0          0       0   \n",
       "\n",
       "   Musical  Mystery  Romance  Sci-Fi  Thriller  War  Western  \n",
       "0        0        0        0       0         0    0        0  \n",
       "1        0        0        0       0         1    0        0  \n",
       "2        0        0        0       0         1    0        0  \n",
       "3        0        0        0       0         0    0        0  \n",
       "4        0        0        0       0         1    0        0  \n",
       "\n",
       "[5 rows x 22 columns]"
      ]
     },
     "execution_count": 12,
     "metadata": {},
     "output_type": "execute_result"
    }
   ],
   "source": [
    "# TODO: there is a field of the movies dataset that has no useful values - what is it?\n",
    "bad_field = 'video_release_date'\n",
    "movies.drop(bad_field, 1, inplace=True)\n",
    "\n",
    "# It also turns out that the IMDB url's don't work :(\n",
    "movies.drop('IMDb_URL', 1, inplace=True)\n",
    "\n",
    "movies.head()"
   ]
  },
  {
   "cell_type": "markdown",
   "metadata": {},
   "source": [
    "## A.4. Read Ratings"
   ]
  },
  {
   "cell_type": "code",
   "execution_count": 13,
   "metadata": {},
   "outputs": [
    {
     "name": "stdout",
     "output_type": "stream",
     "text": [
      "<class 'pandas.core.frame.DataFrame'>\n",
      "RangeIndex: 100000 entries, 0 to 99999\n",
      "Data columns (total 4 columns):\n",
      "user_id           100000 non-null int64\n",
      "movie_id          100000 non-null int64\n",
      "rating            100000 non-null int64\n",
      "unix_timestamp    100000 non-null int64\n",
      "dtypes: int64(4)\n",
      "memory usage: 3.1 MB\n"
     ]
    }
   ],
   "source": [
    "rating_cols = ['user_id', 'movie_id', 'rating', 'unix_timestamp']\n",
    "\n",
    "# TODO: read ratings from u.data\n",
    "ratings = pd.read_csv(movielens_url('u.data'), sep='\\t', names=rating_cols)\n",
    "\n",
    "ratings.info()"
   ]
  },
  {
   "cell_type": "code",
   "execution_count": 14,
   "metadata": {},
   "outputs": [
    {
     "data": {
      "text/html": [
       "<div>\n",
       "<style scoped>\n",
       "    .dataframe tbody tr th:only-of-type {\n",
       "        vertical-align: middle;\n",
       "    }\n",
       "\n",
       "    .dataframe tbody tr th {\n",
       "        vertical-align: top;\n",
       "    }\n",
       "\n",
       "    .dataframe thead th {\n",
       "        text-align: right;\n",
       "    }\n",
       "</style>\n",
       "<table border=\"1\" class=\"dataframe\">\n",
       "  <thead>\n",
       "    <tr style=\"text-align: right;\">\n",
       "      <th></th>\n",
       "      <th>user_id</th>\n",
       "      <th>movie_id</th>\n",
       "      <th>rating</th>\n",
       "      <th>unix_timestamp</th>\n",
       "    </tr>\n",
       "  </thead>\n",
       "  <tbody>\n",
       "  </tbody>\n",
       "</table>\n",
       "</div>"
      ],
      "text/plain": [
       "Empty DataFrame\n",
       "Columns: [user_id, movie_id, rating, unix_timestamp]\n",
       "Index: []"
      ]
     },
     "execution_count": 14,
     "metadata": {},
     "output_type": "execute_result"
    }
   ],
   "source": [
    "# TODO: remember to drop ratings of our bad movie above\n",
    "ratings.drop(ratings.loc[ratings.movie_id==1373].index, 0, inplace=True)\n",
    "# TODO: confirm they are gone\n",
    "ratings.loc[ratings.movie_id==1373]"
   ]
  },
  {
   "cell_type": "markdown",
   "metadata": {},
   "source": [
    "## A.5. Merge Dataset"
   ]
  },
  {
   "cell_type": "code",
   "execution_count": 15,
   "metadata": {},
   "outputs": [
    {
     "data": {
      "text/html": [
       "<div>\n",
       "<style scoped>\n",
       "    .dataframe tbody tr th:only-of-type {\n",
       "        vertical-align: middle;\n",
       "    }\n",
       "\n",
       "    .dataframe tbody tr th {\n",
       "        vertical-align: top;\n",
       "    }\n",
       "\n",
       "    .dataframe thead th {\n",
       "        text-align: right;\n",
       "    }\n",
       "</style>\n",
       "<table border=\"1\" class=\"dataframe\">\n",
       "  <thead>\n",
       "    <tr style=\"text-align: right;\">\n",
       "      <th></th>\n",
       "      <th>movie_id</th>\n",
       "      <th>movie_title</th>\n",
       "      <th>release_date</th>\n",
       "      <th>unknown</th>\n",
       "      <th>Action</th>\n",
       "      <th>Adventure</th>\n",
       "      <th>Animation</th>\n",
       "      <th>Children's</th>\n",
       "      <th>Comedy</th>\n",
       "      <th>Crime</th>\n",
       "      <th>...</th>\n",
       "      <th>Thriller</th>\n",
       "      <th>War</th>\n",
       "      <th>Western</th>\n",
       "      <th>user_id</th>\n",
       "      <th>rating</th>\n",
       "      <th>unix_timestamp</th>\n",
       "      <th>age</th>\n",
       "      <th>sex</th>\n",
       "      <th>occupation</th>\n",
       "      <th>zip_code</th>\n",
       "    </tr>\n",
       "  </thead>\n",
       "  <tbody>\n",
       "    <tr>\n",
       "      <th>0</th>\n",
       "      <td>1</td>\n",
       "      <td>Toy Story (1995)</td>\n",
       "      <td>01-Jan-1995</td>\n",
       "      <td>0</td>\n",
       "      <td>0</td>\n",
       "      <td>0</td>\n",
       "      <td>1</td>\n",
       "      <td>1</td>\n",
       "      <td>1</td>\n",
       "      <td>0</td>\n",
       "      <td>...</td>\n",
       "      <td>0</td>\n",
       "      <td>0</td>\n",
       "      <td>0</td>\n",
       "      <td>308</td>\n",
       "      <td>4</td>\n",
       "      <td>887736532</td>\n",
       "      <td>60</td>\n",
       "      <td>M</td>\n",
       "      <td>retired</td>\n",
       "      <td>95076</td>\n",
       "    </tr>\n",
       "    <tr>\n",
       "      <th>1</th>\n",
       "      <td>4</td>\n",
       "      <td>Get Shorty (1995)</td>\n",
       "      <td>01-Jan-1995</td>\n",
       "      <td>0</td>\n",
       "      <td>1</td>\n",
       "      <td>0</td>\n",
       "      <td>0</td>\n",
       "      <td>0</td>\n",
       "      <td>1</td>\n",
       "      <td>0</td>\n",
       "      <td>...</td>\n",
       "      <td>0</td>\n",
       "      <td>0</td>\n",
       "      <td>0</td>\n",
       "      <td>308</td>\n",
       "      <td>5</td>\n",
       "      <td>887737890</td>\n",
       "      <td>60</td>\n",
       "      <td>M</td>\n",
       "      <td>retired</td>\n",
       "      <td>95076</td>\n",
       "    </tr>\n",
       "    <tr>\n",
       "      <th>2</th>\n",
       "      <td>5</td>\n",
       "      <td>Copycat (1995)</td>\n",
       "      <td>01-Jan-1995</td>\n",
       "      <td>0</td>\n",
       "      <td>0</td>\n",
       "      <td>0</td>\n",
       "      <td>0</td>\n",
       "      <td>0</td>\n",
       "      <td>0</td>\n",
       "      <td>1</td>\n",
       "      <td>...</td>\n",
       "      <td>1</td>\n",
       "      <td>0</td>\n",
       "      <td>0</td>\n",
       "      <td>308</td>\n",
       "      <td>4</td>\n",
       "      <td>887739608</td>\n",
       "      <td>60</td>\n",
       "      <td>M</td>\n",
       "      <td>retired</td>\n",
       "      <td>95076</td>\n",
       "    </tr>\n",
       "    <tr>\n",
       "      <th>3</th>\n",
       "      <td>7</td>\n",
       "      <td>Twelve Monkeys (1995)</td>\n",
       "      <td>01-Jan-1995</td>\n",
       "      <td>0</td>\n",
       "      <td>0</td>\n",
       "      <td>0</td>\n",
       "      <td>0</td>\n",
       "      <td>0</td>\n",
       "      <td>0</td>\n",
       "      <td>0</td>\n",
       "      <td>...</td>\n",
       "      <td>0</td>\n",
       "      <td>0</td>\n",
       "      <td>0</td>\n",
       "      <td>308</td>\n",
       "      <td>4</td>\n",
       "      <td>887738847</td>\n",
       "      <td>60</td>\n",
       "      <td>M</td>\n",
       "      <td>retired</td>\n",
       "      <td>95076</td>\n",
       "    </tr>\n",
       "    <tr>\n",
       "      <th>4</th>\n",
       "      <td>8</td>\n",
       "      <td>Babe (1995)</td>\n",
       "      <td>01-Jan-1995</td>\n",
       "      <td>0</td>\n",
       "      <td>0</td>\n",
       "      <td>0</td>\n",
       "      <td>0</td>\n",
       "      <td>1</td>\n",
       "      <td>1</td>\n",
       "      <td>0</td>\n",
       "      <td>...</td>\n",
       "      <td>0</td>\n",
       "      <td>0</td>\n",
       "      <td>0</td>\n",
       "      <td>308</td>\n",
       "      <td>5</td>\n",
       "      <td>887736696</td>\n",
       "      <td>60</td>\n",
       "      <td>M</td>\n",
       "      <td>retired</td>\n",
       "      <td>95076</td>\n",
       "    </tr>\n",
       "  </tbody>\n",
       "</table>\n",
       "<p>5 rows × 29 columns</p>\n",
       "</div>"
      ],
      "text/plain": [
       "   movie_id            movie_title release_date  unknown  Action  Adventure  \\\n",
       "0         1       Toy Story (1995)  01-Jan-1995        0       0          0   \n",
       "1         4      Get Shorty (1995)  01-Jan-1995        0       1          0   \n",
       "2         5         Copycat (1995)  01-Jan-1995        0       0          0   \n",
       "3         7  Twelve Monkeys (1995)  01-Jan-1995        0       0          0   \n",
       "4         8            Babe (1995)  01-Jan-1995        0       0          0   \n",
       "\n",
       "   Animation  Children's  Comedy  Crime    ...     Thriller  War  Western  \\\n",
       "0          1           1       1      0    ...            0    0        0   \n",
       "1          0           0       1      0    ...            0    0        0   \n",
       "2          0           0       0      1    ...            1    0        0   \n",
       "3          0           0       0      0    ...            0    0        0   \n",
       "4          0           1       1      0    ...            0    0        0   \n",
       "\n",
       "   user_id  rating  unix_timestamp  age  sex  occupation  zip_code  \n",
       "0      308       4       887736532   60    M     retired     95076  \n",
       "1      308       5       887737890   60    M     retired     95076  \n",
       "2      308       4       887739608   60    M     retired     95076  \n",
       "3      308       4       887738847   60    M     retired     95076  \n",
       "4      308       5       887736696   60    M     retired     95076  \n",
       "\n",
       "[5 rows x 29 columns]"
      ]
     },
     "execution_count": 15,
     "metadata": {},
     "output_type": "execute_result"
    }
   ],
   "source": [
    "lens = pd.merge(pd.merge(movies, ratings), users)\n",
    "lens.head()"
   ]
  },
  {
   "cell_type": "markdown",
   "metadata": {},
   "source": [
    "## A.6. Ask Interesting Questions"
   ]
  },
  {
   "cell_type": "code",
   "execution_count": 16,
   "metadata": {},
   "outputs": [
    {
     "name": "stdout",
     "output_type": "stream",
     "text": [
      "Sparsity: 6.31%\n"
     ]
    }
   ],
   "source": [
    "# TODO: compute sparsity = 100% * (# ratings) / ((# users) * (# movies))\n",
    "#       basically: what percentage of the full utility matrix is represented?\n",
    "\n",
    "sparsity = (ratings.shape[0] / (users.shape[0] * movies.shape[0])) * 100\n",
    "print('Sparsity: {:.2f}%'.format(sparsity))"
   ]
  },
  {
   "cell_type": "code",
   "execution_count": 17,
   "metadata": {},
   "outputs": [
    {
     "data": {
      "text/plain": [
       "count    1681.000000\n",
       "mean       59.487805\n",
       "std        80.395111\n",
       "min         1.000000\n",
       "25%         6.000000\n",
       "50%        27.000000\n",
       "75%        80.000000\n",
       "max       583.000000\n",
       "Name: rating, dtype: float64"
      ]
     },
     "execution_count": 17,
     "metadata": {},
     "output_type": "execute_result"
    }
   ],
   "source": [
    "# TODO: Aggregate by movie_id, get stats on number (i.e. size) of ratings per movie\n",
    "ratings.groupby('movie_id')['rating'].count().describe()"
   ]
  },
  {
   "cell_type": "code",
   "execution_count": 18,
   "metadata": {},
   "outputs": [
    {
     "data": {
      "text/plain": [
       "<matplotlib.axes._subplots.AxesSubplot at 0x10d9205c0>"
      ]
     },
     "execution_count": 18,
     "metadata": {},
     "output_type": "execute_result"
    },
    {
     "data": {
      "image/png": "[encoded data removed]",
      "text/plain": [
       "<matplotlib.figure.Figure at 0x1061f7a90>"
      ]
     },
     "metadata": {},
     "output_type": "display_data"
    }
   ],
   "source": [
    "# TODO: Visualize the movie counts as a histogram\n",
    "ratings.groupby('movie_id')['rating'].count().hist()"
   ]
  },
  {
   "cell_type": "code",
   "execution_count": 19,
   "metadata": {},
   "outputs": [
    {
     "data": {
      "text/plain": [
       "count    943.000000\n",
       "mean     106.043478\n",
       "std      100.928288\n",
       "min       20.000000\n",
       "25%       33.000000\n",
       "50%       65.000000\n",
       "75%      148.000000\n",
       "max      737.000000\n",
       "Name: rating, dtype: float64"
      ]
     },
     "execution_count": 19,
     "metadata": {},
     "output_type": "execute_result"
    }
   ],
   "source": [
    "# TODO: Aggregate by user_id, get stats on number (i.e. size) of ratings per user\n",
    "ratings.groupby('user_id')['rating'].count().describe()"
   ]
  },
  {
   "cell_type": "code",
   "execution_count": 20,
   "metadata": {},
   "outputs": [
    {
     "data": {
      "text/html": [
       "<div>\n",
       "<style scoped>\n",
       "    .dataframe tbody tr th:only-of-type {\n",
       "        vertical-align: middle;\n",
       "    }\n",
       "\n",
       "    .dataframe tbody tr th {\n",
       "        vertical-align: top;\n",
       "    }\n",
       "\n",
       "    .dataframe thead th {\n",
       "        text-align: right;\n",
       "    }\n",
       "</style>\n",
       "<table border=\"1\" class=\"dataframe\">\n",
       "  <thead>\n",
       "    <tr style=\"text-align: right;\">\n",
       "      <th></th>\n",
       "      <th>user_id</th>\n",
       "      <th>movie_id</th>\n",
       "      <th>rating</th>\n",
       "      <th>unix_timestamp</th>\n",
       "    </tr>\n",
       "  </thead>\n",
       "  <tbody>\n",
       "    <tr>\n",
       "      <th>0</th>\n",
       "      <td>196</td>\n",
       "      <td>242</td>\n",
       "      <td>3</td>\n",
       "      <td>881250949</td>\n",
       "    </tr>\n",
       "    <tr>\n",
       "      <th>1</th>\n",
       "      <td>186</td>\n",
       "      <td>302</td>\n",
       "      <td>3</td>\n",
       "      <td>891717742</td>\n",
       "    </tr>\n",
       "    <tr>\n",
       "      <th>2</th>\n",
       "      <td>22</td>\n",
       "      <td>377</td>\n",
       "      <td>1</td>\n",
       "      <td>878887116</td>\n",
       "    </tr>\n",
       "    <tr>\n",
       "      <th>3</th>\n",
       "      <td>244</td>\n",
       "      <td>51</td>\n",
       "      <td>2</td>\n",
       "      <td>880606923</td>\n",
       "    </tr>\n",
       "    <tr>\n",
       "      <th>4</th>\n",
       "      <td>166</td>\n",
       "      <td>346</td>\n",
       "      <td>1</td>\n",
       "      <td>886397596</td>\n",
       "    </tr>\n",
       "  </tbody>\n",
       "</table>\n",
       "</div>"
      ],
      "text/plain": [
       "   user_id  movie_id  rating  unix_timestamp\n",
       "0      196       242       3       881250949\n",
       "1      186       302       3       891717742\n",
       "2       22       377       1       878887116\n",
       "3      244        51       2       880606923\n",
       "4      166       346       1       886397596"
      ]
     },
     "execution_count": 20,
     "metadata": {},
     "output_type": "execute_result"
    }
   ],
   "source": [
    "ratings.head()"
   ]
  },
  {
   "cell_type": "code",
   "execution_count": 21,
   "metadata": {},
   "outputs": [
    {
     "data": {
      "text/plain": [
       "<matplotlib.axes._subplots.AxesSubplot at 0x106ac3f28>"
      ]
     },
     "execution_count": 21,
     "metadata": {},
     "output_type": "execute_result"
    },
    {
     "data": {
      "image/png": "[encoded data removed]",
      "text/plain": [
       "<matplotlib.figure.Figure at 0x10c612940>"
      ]
     },
     "metadata": {},
     "output_type": "display_data"
    }
   ],
   "source": [
    "# TODO: Visualize the user counts as a histogram\n",
    "ratings.groupby('user_id')['rating'].count().hist()"
   ]
  },
  {
   "cell_type": "markdown",
   "metadata": {},
   "source": [
    "TODO: comment on the last two stats tables/plots - what does this say in general about ratings per user/movie?\n",
    "\n",
    "Very few movies have been rated and most of the ratings are by a small subset of the users. The above two graphs exhibit the long tail phenomenon"
   ]
  },
  {
   "cell_type": "code",
   "execution_count": 22,
   "metadata": {},
   "outputs": [
    {
     "data": {
      "text/html": [
       "<div>\n",
       "<style scoped>\n",
       "    .dataframe tbody tr th:only-of-type {\n",
       "        vertical-align: middle;\n",
       "    }\n",
       "\n",
       "    .dataframe tbody tr th {\n",
       "        vertical-align: top;\n",
       "    }\n",
       "\n",
       "    .dataframe thead th {\n",
       "        text-align: right;\n",
       "    }\n",
       "</style>\n",
       "<table border=\"1\" class=\"dataframe\">\n",
       "  <thead>\n",
       "    <tr style=\"text-align: right;\">\n",
       "      <th></th>\n",
       "      <th>movie_id</th>\n",
       "      <th>movie_title</th>\n",
       "      <th>release_date</th>\n",
       "      <th>unknown</th>\n",
       "      <th>Action</th>\n",
       "      <th>Adventure</th>\n",
       "      <th>Animation</th>\n",
       "      <th>Children's</th>\n",
       "      <th>Comedy</th>\n",
       "      <th>Crime</th>\n",
       "      <th>...</th>\n",
       "      <th>Fantasy</th>\n",
       "      <th>Film-Noir</th>\n",
       "      <th>Horror</th>\n",
       "      <th>Musical</th>\n",
       "      <th>Mystery</th>\n",
       "      <th>Romance</th>\n",
       "      <th>Sci-Fi</th>\n",
       "      <th>Thriller</th>\n",
       "      <th>War</th>\n",
       "      <th>Western</th>\n",
       "    </tr>\n",
       "  </thead>\n",
       "  <tbody>\n",
       "    <tr>\n",
       "      <th>49</th>\n",
       "      <td>50</td>\n",
       "      <td>Star Wars (1977)</td>\n",
       "      <td>01-Jan-1977</td>\n",
       "      <td>0</td>\n",
       "      <td>1</td>\n",
       "      <td>1</td>\n",
       "      <td>0</td>\n",
       "      <td>0</td>\n",
       "      <td>0</td>\n",
       "      <td>0</td>\n",
       "      <td>...</td>\n",
       "      <td>0</td>\n",
       "      <td>0</td>\n",
       "      <td>0</td>\n",
       "      <td>0</td>\n",
       "      <td>0</td>\n",
       "      <td>1</td>\n",
       "      <td>1</td>\n",
       "      <td>0</td>\n",
       "      <td>1</td>\n",
       "      <td>0</td>\n",
       "    </tr>\n",
       "  </tbody>\n",
       "</table>\n",
       "<p>1 rows × 22 columns</p>\n",
       "</div>"
      ],
      "text/plain": [
       "    movie_id       movie_title release_date  unknown  Action  Adventure  \\\n",
       "49        50  Star Wars (1977)  01-Jan-1977        0       1          1   \n",
       "\n",
       "    Animation  Children's  Comedy  Crime   ...     Fantasy  Film-Noir  Horror  \\\n",
       "49          0           0       0      0   ...           0          0       0   \n",
       "\n",
       "    Musical  Mystery  Romance  Sci-Fi  Thriller  War  Western  \n",
       "49        0        0        1       1         0    1        0  \n",
       "\n",
       "[1 rows x 22 columns]"
      ]
     },
     "execution_count": 22,
     "metadata": {},
     "output_type": "execute_result"
    }
   ],
   "source": [
    "# TODO: Which movie has the most ratings?\n",
    "movies.loc[movies.movie_id==ratings.groupby('movie_id')['rating'].count().idxmax()]"
   ]
  },
  {
   "cell_type": "code",
   "execution_count": 23,
   "metadata": {},
   "outputs": [
    {
     "data": {
      "text/plain": [
       "<matplotlib.axes._subplots.AxesSubplot at 0x10bbffd68>"
      ]
     },
     "execution_count": 23,
     "metadata": {},
     "output_type": "execute_result"
    },
    {
     "data": {
      "image/png": "[encoded data removed]",
      "text/plain": [
       "<matplotlib.figure.Figure at 0x10bc0c3c8>"
      ]
     },
     "metadata": {},
     "output_type": "display_data"
    }
   ],
   "source": [
    "# TODO: are all ratings equally likely? output a bar chart of rating frequency overall\n",
    "ratings.rating.hist(grid=False,range=(1,6), align='left')"
   ]
  },
  {
   "cell_type": "code",
   "execution_count": 24,
   "metadata": {},
   "outputs": [
    {
     "data": {
      "text/html": [
       "<div>\n",
       "<style scoped>\n",
       "    .dataframe tbody tr th:only-of-type {\n",
       "        vertical-align: middle;\n",
       "    }\n",
       "\n",
       "    .dataframe tbody tr th {\n",
       "        vertical-align: top;\n",
       "    }\n",
       "\n",
       "    .dataframe thead th {\n",
       "        text-align: right;\n",
       "    }\n",
       "</style>\n",
       "<table border=\"1\" class=\"dataframe\">\n",
       "  <thead>\n",
       "    <tr style=\"text-align: right;\">\n",
       "      <th></th>\n",
       "      <th>movie_title</th>\n",
       "      <th>size</th>\n",
       "      <th>rating mean</th>\n",
       "    </tr>\n",
       "    <tr>\n",
       "      <th>movie_id</th>\n",
       "      <th></th>\n",
       "      <th></th>\n",
       "      <th></th>\n",
       "    </tr>\n",
       "  </thead>\n",
       "  <tbody>\n",
       "    <tr>\n",
       "      <th>50</th>\n",
       "      <td>Star Wars (1977)</td>\n",
       "      <td>583</td>\n",
       "      <td>4.358491</td>\n",
       "    </tr>\n",
       "    <tr>\n",
       "      <th>98</th>\n",
       "      <td>Silence of the Lambs, The (1991)</td>\n",
       "      <td>390</td>\n",
       "      <td>4.289744</td>\n",
       "    </tr>\n",
       "    <tr>\n",
       "      <th>127</th>\n",
       "      <td>Godfather, The (1972)</td>\n",
       "      <td>413</td>\n",
       "      <td>4.283293</td>\n",
       "    </tr>\n",
       "    <tr>\n",
       "      <th>174</th>\n",
       "      <td>Raiders of the Lost Ark (1981)</td>\n",
       "      <td>420</td>\n",
       "      <td>4.252381</td>\n",
       "    </tr>\n",
       "    <tr>\n",
       "      <th>313</th>\n",
       "      <td>Titanic (1997)</td>\n",
       "      <td>350</td>\n",
       "      <td>4.245714</td>\n",
       "    </tr>\n",
       "    <tr>\n",
       "      <th>172</th>\n",
       "      <td>Empire Strikes Back, The (1980)</td>\n",
       "      <td>367</td>\n",
       "      <td>4.204360</td>\n",
       "    </tr>\n",
       "    <tr>\n",
       "      <th>173</th>\n",
       "      <td>Princess Bride, The (1987)</td>\n",
       "      <td>324</td>\n",
       "      <td>4.172840</td>\n",
       "    </tr>\n",
       "    <tr>\n",
       "      <th>100</th>\n",
       "      <td>Fargo (1996)</td>\n",
       "      <td>508</td>\n",
       "      <td>4.155512</td>\n",
       "    </tr>\n",
       "    <tr>\n",
       "      <th>168</th>\n",
       "      <td>Monty Python and the Holy Grail (1974)</td>\n",
       "      <td>316</td>\n",
       "      <td>4.066456</td>\n",
       "    </tr>\n",
       "    <tr>\n",
       "      <th>56</th>\n",
       "      <td>Pulp Fiction (1994)</td>\n",
       "      <td>394</td>\n",
       "      <td>4.060914</td>\n",
       "    </tr>\n",
       "  </tbody>\n",
       "</table>\n",
       "</div>"
      ],
      "text/plain": [
       "                                     movie_title  size  rating mean\n",
       "movie_id                                                           \n",
       "50                              Star Wars (1977)   583     4.358491\n",
       "98              Silence of the Lambs, The (1991)   390     4.289744\n",
       "127                        Godfather, The (1972)   413     4.283293\n",
       "174               Raiders of the Lost Ark (1981)   420     4.252381\n",
       "313                               Titanic (1997)   350     4.245714\n",
       "172              Empire Strikes Back, The (1980)   367     4.204360\n",
       "173                   Princess Bride, The (1987)   324     4.172840\n",
       "100                                 Fargo (1996)   508     4.155512\n",
       "168       Monty Python and the Holy Grail (1974)   316     4.066456\n",
       "56                           Pulp Fiction (1994)   394     4.060914"
      ]
     },
     "execution_count": 24,
     "metadata": {},
     "output_type": "execute_result"
    }
   ],
   "source": [
    "# TODO: of the movies that have 300 or more ratings, what are the top-ten ranked movies?\n",
    "top_movies = ratings.groupby('movie_id').agg({'user_id':np.size, 'rating':np.mean}).reset_index()\n",
    "top_movies = top_movies.rename(columns={'user_id': 'size', 'rating': 'rating mean'})\n",
    "top_movies = top_movies[top_movies['size'] >= 300]\n",
    "top_movies = pd.merge(movies[['movie_id', 'movie_title']], top_movies).sort_values('rating mean', ascending=False)\n",
    "top_movies = top_movies.set_index('movie_id')\n",
    "top_movies.head(10)"
   ]
  },
  {
   "cell_type": "code",
   "execution_count": 25,
   "metadata": {},
   "outputs": [],
   "source": [
    "# TODO: describe one more interesting question, and then query the result with Pandas\n",
    "\n",
    "# How many movies were produced per year?\n"
   ]
  },
  {
   "cell_type": "markdown",
   "metadata": {},
   "source": [
    "# B. Extract Utility Matrix"
   ]
  },
  {
   "cell_type": "code",
   "execution_count": 26,
   "metadata": {},
   "outputs": [],
   "source": [
    "def user_id_to_index(id):\n",
    "    return id-1\n",
    "\n",
    "def user_index_to_id(idx):\n",
    "    return idx+1\n",
    "\n",
    "# Accounts for the bad movie\n",
    "def movie_id_to_index(id):\n",
    "    return id-1 if id<bad_row_id else id-2\n",
    "\n",
    "# Accounts for the bad movie\n",
    "def movie_index_to_id(idx):\n",
    "    return idx+1 if idx<(bad_row_id-1) else idx+2"
   ]
  },
  {
   "cell_type": "code",
   "execution_count": 27,
   "metadata": {},
   "outputs": [
    {
     "name": "stdout",
     "output_type": "stream",
     "text": [
      "Sparsity: 6.31%\n"
     ]
    }
   ],
   "source": [
    "num_users = ratings.user_id.unique().shape[0]\n",
    "num_movies = ratings.movie_id.unique().shape[0]\n",
    "\n",
    "utility = np.zeros((num_users, num_movies))\n",
    "\n",
    "for idx,rating in ratings.iterrows():\n",
    "    utility[user_id_to_index(rating.user_id), movie_id_to_index(rating.movie_id)] = rating.rating\n",
    "\n",
    "# should match above!\n",
    "sparsity = float(len(utility.nonzero()[0]))\n",
    "sparsity /= (utility.shape[0] * utility.shape[1])\n",
    "sparsity *= 100\n",
    "print('Sparsity: {:.2f}%'.format(sparsity))"
   ]
  },
  {
   "cell_type": "markdown",
   "metadata": {},
   "source": [
    "# C. Evaluation via Mean Squared Error (MSE)"
   ]
  },
  {
   "cell_type": "code",
   "execution_count": 28,
   "metadata": {},
   "outputs": [
    {
     "name": "stdout",
     "output_type": "stream",
     "text": [
      "6.2000\n"
     ]
    }
   ],
   "source": [
    "a = [1, 2, 3, 4, 5]\n",
    "b = [1, 1, 4, 2, 10]\n",
    "print(\"{:.4f}\".format(mse(a, b)))"
   ]
  },
  {
   "cell_type": "markdown",
   "metadata": {},
   "source": [
    "TODO: Show the mathematical operations that reproduce the above result\n",
    "\n",
    "$$ mse = \\frac{(1 - 1)^2 + (2 - 1)^2 + (3 - 4)^2 + (4 - 2)^2 + (5 - 10)^2}{5} = 6.2 $$"
   ]
  },
  {
   "cell_type": "code",
   "execution_count": 29,
   "metadata": {},
   "outputs": [
    {
     "name": "stdout",
     "output_type": "stream",
     "text": [
      "2.0000\n"
     ]
    }
   ],
   "source": [
    "def mse_utility(u1, u2):\n",
    "    return mse(u1[u1.nonzero()].flatten(), u2[u2.nonzero()].flatten())\n",
    "\n",
    "u1 = np.array([[2, 0, 0, 4, 4], [5, 5, 5, 3, 3], [2, 4, 2, 1, 2]])\n",
    "u2 = np.array([[3, 0, 0, 4, 4], [5, 5, 5, 3, 3], [2, 4, 2, 1, 7]])\n",
    "\n",
    "print(\"{:.4f}\".format(mse_utility(u1, u2)))"
   ]
  },
  {
   "cell_type": "markdown",
   "metadata": {},
   "source": [
    "TODO: \n",
    "1. Explain what operation is being performed. Include *why* it is appropriate in the context evaluating a recommender system, as well as performance implications.\n",
    "\n",
    "Since we are predicting ratings, MSE tells is how close the ratings given by our recommender system are to the actual ratings. Smaller the error, better our recommender system.\n",
    "\n",
    "2. Show the mathematical operations that reproduce the above result\n",
    "\n",
    "$$ mse = \\frac{(2 - 3)^2 + 2.(4 - 4)^2 + 3.(5 - 5)^2 + 2.(3 - 3)^2 + (2 - 2)^2 + (4 - 4)^2 + (2 - 2)^2 + (1 - 1)^2 + (2 - 7)^2}{13} = 2 $$"
   ]
  },
  {
   "cell_type": "markdown",
   "metadata": {},
   "source": [
    "# D. Similarity via Cosine Distance"
   ]
  },
  {
   "cell_type": "code",
   "execution_count": 30,
   "metadata": {},
   "outputs": [
    {
     "name": "stdout",
     "output_type": "stream",
     "text": [
      "Cosine Similarity: 0.935601, expected=0.935601\n"
     ]
    }
   ],
   "source": [
    "# TODO: implement, only use primitive Python loops/operations\n",
    "#       sim = (A . B) / ( ||A|| ||B|| )\n",
    "def cosine_sim(v1, v2):\n",
    "    \n",
    "    def l2(v):\n",
    "        return sum(n**2 for n in v)**(0.5)\n",
    "    \n",
    "    numerator = sum(n1*n2 for n1, n2 in zip(v1, v2))\n",
    "    denominator = l2(v1) * l2(v2)\n",
    "    return numerator / denominator\n",
    "    \n",
    "v1 = [5, 0, 3, 0, 2, 0, 0, 2, 0, 0]\n",
    "v2 = [3, 0, 2, 0, 1, 1, 0, 1, 0, 1]\n",
    "\n",
    "print(\"Cosine Similarity: {:.6f}, expected={:.6f}\".format(cosine_sim(v1, v2), cosine_similarity(np.array(v1).reshape(1, -1), np.array(v2).reshape(1, -1))[0][0]))"
   ]
  },
  {
   "cell_type": "code",
   "execution_count": 31,
   "metadata": {},
   "outputs": [
    {
     "name": "stdout",
     "output_type": "stream",
     "text": [
      "[[ 1.          0.58760596  0.49518757]\n",
      " [ 0.58760596  1.          0.94352977]\n",
      " [ 0.49518757  0.94352977  1.        ]]\n",
      "0.587605960347\n",
      "0.495187568472\n",
      "0.943529768569\n"
     ]
    }
   ],
   "source": [
    "def sim_matrix(u, eps=1.0e-9):\n",
    "    step1 = u.dot(u.T) + eps\n",
    "    step2 = np.array([np.sqrt(np.diagonal(step1))])\n",
    "    return (step1 / step2 / step2.T)\n",
    "\n",
    "print(sim_matrix(u1))\n",
    "print(cosine_sim(u1[0], u1[1]))\n",
    "print(cosine_sim(u1[0], u1[2]))\n",
    "print(cosine_sim(u1[1], u1[2]))"
   ]
  },
  {
   "cell_type": "code",
   "execution_count": 32,
   "metadata": {},
   "outputs": [
    {
     "name": "stdout",
     "output_type": "stream",
     "text": [
      "MSE for U1: 0.0000\n",
      "MSE for U2: 0.0000\n"
     ]
    }
   ],
   "source": [
    "def sim_allpairs(u):\n",
    "    n = u.shape[0]\n",
    "    sim = np.eye(n)\n",
    "    for x in itertools.combinations(range(n), 2):\n",
    "        s = cosine_sim(u[x[0]], u[x[1]])\n",
    "        sim[x[0], x[1]] = s\n",
    "        sim[x[1], x[0]] = s\n",
    "    \n",
    "    return sim\n",
    "\n",
    "print(\"MSE for U1: {:.4f}\".format(mse_utility(sim_matrix(u1), sim_allpairs(u1))))\n",
    "print(\"MSE for U2: {:.4f}\".format(mse_utility(sim_matrix(u2), sim_allpairs(u2))))"
   ]
  },
  {
   "cell_type": "code",
   "execution_count": 33,
   "metadata": {},
   "outputs": [
    {
     "name": "stdout",
     "output_type": "stream",
     "text": [
      "719 µs ± 151 µs per loop (mean ± std. dev. of 3 runs, 10 loops each)\n"
     ]
    }
   ],
   "source": [
    "%timeit -n 10 -r 3 sim_matrix(utility[:50,:])"
   ]
  },
  {
   "cell_type": "code",
   "execution_count": 34,
   "metadata": {},
   "outputs": [
    {
     "name": "stdout",
     "output_type": "stream",
     "text": [
      "2.43 s ± 80.7 ms per loop (mean ± std. dev. of 3 runs, 10 loops each)\n"
     ]
    }
   ],
   "source": [
    "%timeit -n 10 -r 3 sim_allpairs(utility[:50,:])"
   ]
  },
  {
   "cell_type": "markdown",
   "metadata": {},
   "source": [
    "TODO:\n",
    "1. Explain what each line of sim_matrix is doing (including why eps is necessary)\n",
    "\n",
    "**Solution**\n",
    "\n",
    "`step1 = u.dot(u.T) + eps`: Computes a symmetric matrix $S$ where $S_{ij} = u_i \\cdot u_j$. `eps` is needed to avoid `DivisionByZero` error.\n",
    "\n",
    "`step2 = np.array([np.sqrt(np.diagonal(step1))])`: `step2` is an array $A$ where $A_i = ||u_i||_2$\n",
    "\n",
    "`return (step1 / step2 / step2.T)`: Every dot product term in `step1` is divided by the $l_2$ norms of the constituent vectors. Hence element $S_{ij}$ of the final matrix is the cosine distance between vectors $u_i$ and $u_j$.\n",
    "\n",
    "\n",
    "2. Explain why this approach is preferable to pairwise calls to cosine_sim (reference the previous two timeit calls; explain what each is doing and how it relates to your conclusion)\n",
    "\n",
    "**Solution**\n",
    "Vectorized operations are faster and hence calls to `sim_matrix` is preferred."
   ]
  },
  {
   "cell_type": "code",
   "execution_count": 35,
   "metadata": {},
   "outputs": [
    {
     "name": "stdout",
     "output_type": "stream",
     "text": [
      "[[ 1.          0.89714996  0.93743687  0.85348593  0.87278605]\n",
      " [ 0.89714996  1.          0.9570244   0.5819357   0.66701701]\n",
      " [ 0.93743687  0.9570244   1.          0.61910348  0.65517241]\n",
      " [ 0.85348593  0.5819357   0.61910348  1.          0.983282  ]\n",
      " [ 0.87278605  0.66701701  0.65517241  0.983282    1.        ]]\n",
      "0.897149958915\n",
      "0.937436866561\n",
      "0.853485927499\n",
      "0.872786048178\n",
      "0.957024404433\n",
      "0.58193569724\n",
      "0.667017009151\n",
      "0.61910348462\n",
      "0.655172413793\n",
      "0.983282004984\n"
     ]
    }
   ],
   "source": [
    "def sim_users(u):\n",
    "    return sim_matrix(u)\n",
    "\n",
    "# TODO: use sim_matrix to return similarity between items (i.e. movies)\n",
    "def sim_items(u):\n",
    "    return sim_matrix(u.T)\n",
    "\n",
    "print(sim_items(u1))\n",
    "print(cosine_sim(u1[:, 0], u1[:, 1]))\n",
    "print(cosine_sim(u1[:, 0], u1[:, 2]))\n",
    "print(cosine_sim(u1[:, 0], u1[:, 3]))\n",
    "print(cosine_sim(u1[:, 0], u1[:, 4]))\n",
    "print(cosine_sim(u1[:, 1], u1[:, 2]))\n",
    "print(cosine_sim(u1[:, 1], u1[:, 3]))\n",
    "print(cosine_sim(u1[:, 1], u1[:, 4]))\n",
    "print(cosine_sim(u1[:, 2], u1[:, 3]))\n",
    "print(cosine_sim(u1[:, 2], u1[:, 4]))\n",
    "print(cosine_sim(u1[:, 3], u1[:, 4]))"
   ]
  },
  {
   "cell_type": "markdown",
   "metadata": {},
   "source": [
    "# E. K-Neighborhood"
   ]
  },
  {
   "cell_type": "code",
   "execution_count": 36,
   "metadata": {},
   "outputs": [],
   "source": [
    "# TODO: given a slice from a similarity matrix (arr),\n",
    "#       index of \"self\" (self_idx),\n",
    "#       and k\n",
    "#       return dictionary of k most similar indexes as {idx:sim}\n",
    "#       HINT: look at np.argsort\n",
    "def top_k(arr, self_idx, k):\n",
    "    ind = arr.argsort()[-k-1:-1]\n",
    "    return {i:arr[i] for i in sorted(ind)}"
   ]
  },
  {
   "cell_type": "code",
   "execution_count": 37,
   "metadata": {},
   "outputs": [
    {
     "name": "stdout",
     "output_type": "stream",
     "text": [
      "[[ 1.          0.89714996  0.93743687  0.85348593  0.87278605]\n",
      " [ 0.89714996  1.          0.9570244   0.5819357   0.66701701]\n",
      " [ 0.93743687  0.9570244   1.          0.61910348  0.65517241]\n",
      " [ 0.85348593  0.5819357   0.61910348  1.          0.983282  ]\n",
      " [ 0.87278605  0.66701701  0.65517241  0.983282    1.        ]]\n",
      "\n",
      "[ 1.          0.89714996  0.93743687  0.85348593  0.87278605]\n",
      "{1: 0.89714995891726312, 2: 0.93743686656305114}\n",
      "\n",
      "[ 0.89714996  1.          0.9570244   0.5819357   0.66701701]\n",
      "{0: 0.89714995891726301, 2: 0.95702440443430259}\n",
      "\n",
      "[ 0.89714996  1.          0.9570244   0.5819357   0.66701701]\n",
      "{0: 0.89714995891726312, 2: 0.9570244044343027, 4: 0.66701700915996875}\n",
      "\n"
     ]
    }
   ],
   "source": [
    "sim_u1 = sim_items(u1)\n",
    "\n",
    "# Example via u1...\n",
    "print(sim_u1)\n",
    "print()\n",
    "\n",
    "# Top-2 w.r.t. row 0 (should be {1: 0.897, 2:0.937})\n",
    "print(sim_u1[0])\n",
    "print(top_k(sim_u1[0], 0, 2))\n",
    "print()\n",
    "\n",
    "# Top-2 w.r.t. row 1 (should be {0: 0.897, 2:0.957})\n",
    "print(sim_u1[1])\n",
    "print(top_k(sim_u1[1], 1, 2))\n",
    "print()\n",
    "\n",
    "# Top-3 w.r.t. col 1 (should be {0: 0.897, 2:0.957, 4:0.667})\n",
    "print(sim_u1[:, 1])\n",
    "print(top_k(sim_u1[:, 1], 1, 3))\n",
    "print()"
   ]
  },
  {
   "cell_type": "markdown",
   "metadata": {},
   "source": [
    "# F. Recommend via Similar Users"
   ]
  },
  {
   "cell_type": "code",
   "execution_count": 38,
   "metadata": {},
   "outputs": [
    {
     "name": "stdout",
     "output_type": "stream",
     "text": [
      "[[2 0 0 4 4]\n",
      " [5 5 5 3 3]\n",
      " [2 4 2 1 2]]\n",
      "\n",
      "[[ 1.          0.58760596  0.49518757]\n",
      " [ 0.58760596  1.          0.94352977]\n",
      " [ 0.49518757  0.94352977  1.        ]]\n",
      "\n",
      "5.0\n",
      "4.542675907\n"
     ]
    }
   ],
   "source": [
    "# TODO: given utility matrix (m_utility),\n",
    "#       similarity of users (m_sim_users),\n",
    "#       user index of interest (user_idx),\n",
    "#       item index of interest (item_idx),\n",
    "#       neighborhood size (k)\n",
    "# \n",
    "#       output the average of the similarity-weighted ratings\n",
    "#       of top-k similar users that have\n",
    "#       rated the item\n",
    "def rec_via_users(m_utility, m_sim_users, user_idx, item_idx, k):\n",
    "    sim_users = top_k(m_sim_users[user_idx], user_idx, k)\n",
    "    item_ratings = m_utility.T[item_idx]\n",
    "    numer = 0\n",
    "    denom = 0\n",
    "    for i in sim_users:\n",
    "        if item_ratings[i] != 0:\n",
    "            numer += item_ratings[i] * sim_users[i] \n",
    "            denom += sim_users[i]\n",
    "    if denom != 0:\n",
    "        return numer / denom\n",
    "    return 0\n",
    "    \n",
    "print(u1)\n",
    "print()\n",
    "print(sim_users(u1))\n",
    "print()\n",
    "\n",
    "# Expected: 5\n",
    "print(rec_via_users(u1, sim_users(u1), 0, 1, 1))\n",
    "\n",
    "# Expected: 4.54 ~ (.588 * 5) + (.495 * 4) / (.588 + .495)\n",
    "print(rec_via_users(u1, sim_users(u1), 0, 1, 2))"
   ]
  },
  {
   "cell_type": "markdown",
   "metadata": {},
   "source": [
    "## F.1. Evaluation"
   ]
  },
  {
   "cell_type": "code",
   "execution_count": 39,
   "metadata": {},
   "outputs": [
    {
     "name": "stdout",
     "output_type": "stream",
     "text": [
      "1/50 5.84215444471\n",
      "2/50 3.87153211543\n",
      "3/50 2.91131117606\n",
      "4/50 2.39786489562\n",
      "5/50 2.33681462074\n",
      "6/50 2.2929678963\n",
      "7/50 1.89587917539\n",
      "8/50 1.7015729936\n",
      "9/50 1.79028132957\n",
      "10/50 1.620986856\n",
      "11/50 1.61950321956\n",
      "12/50 1.55799979606\n",
      "13/50 1.49418418502\n",
      "14/50 1.51509838278\n",
      "15/50 1.5083025828\n",
      "16/50 1.51618759433\n",
      "17/50 1.3218876561\n",
      "18/50 1.26905781569\n",
      "19/50 1.56950868296\n",
      "20/50 1.35346574772\n",
      "21/50 1.28806841872\n",
      "22/50 1.42033323338\n",
      "23/50 1.44548477408\n",
      "24/50 1.32186364595\n",
      "25/50 1.29505513428\n",
      "26/50 1.23273657277\n",
      "27/50 1.28052270113\n",
      "28/50 1.14656200308\n",
      "29/50 1.27788069643\n",
      "30/50 1.26694183131\n",
      "31/50 1.28093869721\n",
      "32/50 1.28723889435\n",
      "33/50 1.23595918734\n",
      "34/50 1.34299429391\n",
      "35/50 1.1656931798\n",
      "36/50 1.15480610553\n",
      "37/50 1.31819610298\n",
      "38/50 1.15590480457\n",
      "39/50 1.22873449669\n",
      "40/50 1.08604874633\n",
      "41/50 1.17439944488\n",
      "42/50 1.23176369855\n",
      "43/50 1.26868646592\n",
      "44/50 1.37154528062\n",
      "45/50 1.18433903029\n",
      "46/50 1.16805667648\n",
      "47/50 1.17066033999\n",
      "48/50 1.09889154526\n",
      "49/50 1.13678494515\n",
      "50/50 1.24281536747\n"
     ]
    }
   ],
   "source": [
    "random.seed(12345)\n",
    "\n",
    "def recs_via_users(m_utility, m_sim_users, k, test_n):\n",
    "    test = random.sample(range(m_sim_users.shape[0]), test_n)\n",
    "    true = []\n",
    "    pred = []\n",
    "    for user_idx in test:\n",
    "        for item_idx in range(m_utility.shape[1]):\n",
    "            if m_utility[user_idx][item_idx] != 0:\n",
    "                true.append(m_utility[user_idx][item_idx])\n",
    "                \n",
    "                p = round(rec_via_users(m_utility, m_sim_users, user_idx, item_idx, k))\n",
    "                if p != 0:    \n",
    "                    pred.append(p)\n",
    "                else:\n",
    "                    pred.append(1.0e-9)\n",
    "                        \n",
    "\n",
    "    return mse_utility(np.array([true], dtype=np.float64), np.array([pred], dtype=np.float64))\n",
    "    \n",
    "similarity_users = sim_users(utility)\n",
    "\n",
    "ks = []\n",
    "mses = []\n",
    "for i in range(50):\n",
    "    ks.append(i+1)\n",
    "    mses.append(recs_via_users(utility, similarity_users, i+1, 100))\n",
    "    print(\"{}/50\".format(i+1), mses[-1])"
   ]
  },
  {
   "cell_type": "code",
   "execution_count": 40,
   "metadata": {},
   "outputs": [
    {
     "name": "stdout",
     "output_type": "stream",
     "text": [
      "489 ms ± 2.75 ms per loop (mean ± std. dev. of 3 runs, 10 loops each)\n"
     ]
    }
   ],
   "source": [
    "%timeit -n 10 -r 3 recs_via_users(utility, similarity_users, 2, 100)"
   ]
  },
  {
   "cell_type": "code",
   "execution_count": 41,
   "metadata": {},
   "outputs": [
    {
     "name": "stdout",
     "output_type": "stream",
     "text": [
      "753 ms ± 48.3 ms per loop (mean ± std. dev. of 3 runs, 10 loops each)\n"
     ]
    }
   ],
   "source": [
    "%timeit -n 10 -r 3 recs_via_users(utility, similarity_users, 20, 100)"
   ]
  },
  {
   "cell_type": "code",
   "execution_count": null,
   "metadata": {},
   "outputs": [
    {
     "data": {
      "text/plain": [
       "[<matplotlib.lines.Line2D at 0x10fdf86a0>]"
      ]
     },
     "execution_count": 42,
     "metadata": {},
     "output_type": "execute_result"
    },
    {
     "data": {
      "image/png": "[encoded data removed]",
      "text/plain": [
       "<matplotlib.figure.Figure at 0x107bac048>"
      ]
     },
     "metadata": {},
     "output_type": "display_data"
    }
   ],
   "source": [
    "plt.plot(ks, mses)"
   ]
  },
  {
   "cell_type": "markdown",
   "metadata": {},
   "source": [
    "TODO:\n",
    " 1. Describe what is being done in the recs_via_users function - what is the evaluation approach? What would have been a more \"fair\" methodology?\n",
    "\n",
    "`recs_via_users` picks a random subset of 100 users from the utility matrix and computes the MSE between the true and predicted ratings for all items, parameterized by the neighborhood size `k`. \n",
    "\n",
    "\n",
    " 2. What do you notice happening as k increases?\n",
    "\n",
    "As `k` increases, the MSE betweena actual and predicted ratings reduces.\n",
    "\n",
    "\n",
    " 3. Based upon these results, what is a reasonable neighborhood size?\n",
    "\n",
    "Using the elbow approach, a neighborhood size of 7 seems to be appropriate."
   ]
  },
  {
   "cell_type": "markdown",
   "metadata": {},
   "source": [
    "# G. Recommend via SVD"
   ]
  },
  {
   "cell_type": "code",
   "execution_count": null,
   "metadata": {},
   "outputs": [
    {
     "name": "stdout",
     "output_type": "stream",
     "text": [
      "1/100 7.7473451682\n",
      "2/100 6.61284678671\n",
      "3/100 6.69773010108\n",
      "4/100 5.93442181637\n",
      "5/100 6.09760996057\n",
      "6/100 6.37813933048\n",
      "7/100 5.4308861762\n",
      "8/100 5.3678861779\n",
      "9/100 5.45130828148\n",
      "10/100 5.43729799518\n",
      "11/100 4.79052437822\n",
      "12/100 5.3634789684\n",
      "13/100 5.68093052939\n",
      "14/100 4.89090200583\n",
      "15/100 4.95166051588\n",
      "16/100 5.26737266687\n"
     ]
    }
   ],
   "source": [
    "random.seed(12345)\n",
    "\n",
    "# TODO: given a utility matrix and\n",
    "#       number of singular values to use\n",
    "# \n",
    "#       return a projected matrix\n",
    "#       based upon a limited number of dimensions\n",
    "#       U_pred = U S V^T\n",
    "# \n",
    "#       HINT: the svds function does most of the work for you\n",
    "def svd_projection(m_utility, num_dims):\n",
    "    U, s, Vt = svds(A=m_utility, k=num_dims)\n",
    "    dim = (len(s), len(s))\n",
    "    S = np.zeros(dim, dtype=np.float32)\n",
    "    for i in range(0, len(s)):\n",
    "        S[i,i] = s[i]\n",
    "    return U @ S @ Vt\n",
    "\n",
    "def recs_via_svd(m_utility, num_dims, test_n):\n",
    "    test = random.sample(range(m_utility.shape[0]), test_n)    \n",
    "    svd_utility = svd_projection(utility, num_dims)\n",
    "    \n",
    "    true = []\n",
    "    pred = []\n",
    "    for user_idx in test:\n",
    "        for item_idx in range(m_utility.shape[1]):\n",
    "            if m_utility[user_idx][item_idx] != 0:\n",
    "                true.append(m_utility[user_idx][item_idx])\n",
    "                p = round(svd_utility[user_idx][item_idx])\n",
    "                \n",
    "                if p != 0:\n",
    "                    pred.append(p)\n",
    "                else:\n",
    "                    pred.append(1.0e-9)\n",
    "\n",
    "    return mse_utility(np.array([true], dtype=np.float64), np.array([pred], dtype=np.float64))\n",
    "    \n",
    "    \n",
    "ds = []\n",
    "mses = []\n",
    "for i in range(100):\n",
    "    ds.append(i+1)\n",
    "    mses.append(recs_via_svd(utility, i+1, 100))\n",
    "    print(\"{}/100\".format(i+1), mses[-1])"
   ]
  },
  {
   "cell_type": "code",
   "execution_count": null,
   "metadata": {},
   "outputs": [],
   "source": [
    "%timeit -n 10 -r 3 recs_via_svd(utility, 10, 100)"
   ]
  },
  {
   "cell_type": "code",
   "execution_count": null,
   "metadata": {},
   "outputs": [],
   "source": [
    "%timeit -n 10 -r 3 recs_via_svd(utility, 20, 100)"
   ]
  },
  {
   "cell_type": "code",
   "execution_count": null,
   "metadata": {},
   "outputs": [],
   "source": [
    "%timeit -n 10 -r 3 recs_via_svd(utility, 40, 100)"
   ]
  },
  {
   "cell_type": "code",
   "execution_count": null,
   "metadata": {},
   "outputs": [],
   "source": [
    "%timeit -n 10 -r 3 recs_via_svd(utility, 80, 100)"
   ]
  },
  {
   "cell_type": "code",
   "execution_count": null,
   "metadata": {},
   "outputs": [],
   "source": [
    "plt.plot(ds, mses)"
   ]
  },
  {
   "cell_type": "markdown",
   "metadata": {},
   "source": [
    "TODO: comment on the relative speed/quality of the SVD approach as compared to the neighborhood approach\n",
    "\n",
    "1. SVD is faster than the neighborhood based approach. This is because the neighborhood-based approach has a runtime of $O(n^2)$\n",
    "2. The quality of the neighborhood based approach is better. This is reflected in the MSE values displayed above."
   ]
  },
  {
   "cell_type": "markdown",
   "metadata": {},
   "source": [
    "# H. TODO: Your Turn\n",
    "The previous sections explored some building blocks and methods of recommendation for the MovieLens dataset.\n",
    "In this section, you must extend this work:\n",
    "1. Implement a method that was not covered above (e.g. item-based neighborhood, direct matrix factorization) OR extend a method (e.g. incorporate rating bias)\n",
    "2. Evaluate your method similar to what was done above\n",
    "\n",
    "Do NOT change any code above - only add code/comment in this section (as many cells as you see fit). You are welcome to copy-paste code from above."
   ]
  },
  {
   "cell_type": "code",
   "execution_count": null,
   "metadata": {},
   "outputs": [],
   "source": [
    "def rec_via_items(m_utility, m_sim_items, user_idx, item_idx, k):\n",
    "    sim_items = top_k(m_sim_items[item_idx], item_idx, k)\n",
    "    item_ratings = m_utility[user_idx]\n",
    "    numer = 0\n",
    "    denom = 0\n",
    "    for i in sim_items:\n",
    "        if item_ratings[i] != 0:\n",
    "            numer += item_ratings[i] * sim_items[i] \n",
    "            denom += sim_items[i]\n",
    "    if denom != 0:\n",
    "        return numer / denom\n",
    "    return 0\n",
    "    \n",
    "print(u1)\n",
    "print()\n",
    "print(sim_items(u1))\n",
    "print()\n",
    "\n",
    "# Expected: 0\n",
    "print(rec_via_items(u1, sim_items(u1), 0, 1, 1))\n",
    "\n",
    "# Expected: 4.54 ~ (.588 * 5) + (.495 * 4) / (.588 + .495)\n",
    "print(rec_via_items(u1, sim_items(u1), 0, 1, 2))"
   ]
  },
  {
   "cell_type": "code",
   "execution_count": null,
   "metadata": {},
   "outputs": [],
   "source": [
    "random.seed(12345)\n",
    "\n",
    "def recs_via_items(m_utility, m_sim_items, k, test_n):\n",
    "    test = random.sample(range(m_sim_items.shape[0]), test_n)\n",
    "    true = []\n",
    "    pred = []\n",
    "    for item_idx in test:\n",
    "        for user_idx in range(m_utility.shape[0]):\n",
    "            if m_utility[user_idx][item_idx] != 0:\n",
    "                true.append(m_utility[user_idx][item_idx])\n",
    "                \n",
    "                p = round(rec_via_items(m_utility, m_sim_items, user_idx, item_idx, k))\n",
    "                if p != 0:    \n",
    "                    pred.append(p)\n",
    "                else:\n",
    "                    pred.append(1.0e-9)\n",
    "                        \n",
    "\n",
    "    return mse_utility(np.array([true], dtype=np.float64), np.array([pred], dtype=np.float64))\n",
    "    \n",
    "similarity_items = sim_items(utility)\n",
    "\n",
    "ks = []\n",
    "mses = []\n",
    "for i in range(50):\n",
    "    ks.append(i+1)\n",
    "    mses.append(recs_via_items(utility, similarity_items, i+1, 100))\n",
    "    print(\"{}/50\".format(i+1), mses[-1])"
   ]
  },
  {
   "cell_type": "code",
   "execution_count": null,
   "metadata": {},
   "outputs": [],
   "source": [
    "%timeit -n 10 -r 3 recs_via_items(utility, similarity_users, 2, 100)"
   ]
  },
  {
   "cell_type": "code",
   "execution_count": null,
   "metadata": {},
   "outputs": [],
   "source": [
    "%timeit -n 10 -r 3 recs_via_items(utility, similarity_users, 20, 100)"
   ]
  },
  {
   "cell_type": "code",
   "execution_count": null,
   "metadata": {},
   "outputs": [],
   "source": [
    "plt.plot(ks, mses)"
   ]
  },
  {
   "cell_type": "markdown",
   "metadata": {},
   "source": [
    "# I. Extra Credit\n",
    "If you so choose, create an actual recommendation engine using one of the supplied methods:\n",
    "1. Create a function that takes as input a dictionary of {movie_title:rating}, as well as a k, and your function should return the top k movies that have not been watched and have highest predicted ratings.\n",
    "2. Run the function on a few representative examples - analyze your results."
   ]
  }
 ],
 "metadata": {
  "kernelspec": {
   "display_name": "Python 3",
   "language": "python",
   "name": "python3"
  },
  "language_info": {
   "codemirror_mode": {
    "name": "ipython",
    "version": 3
   },
   "file_extension": ".py",
   "mimetype": "text/x-python",
   "name": "python",
   "nbconvert_exporter": "python",
   "pygments_lexer": "ipython3",
   "version": "3.6.0"
  }
 },
 "nbformat": 4,
 "nbformat_minor": 2
}
